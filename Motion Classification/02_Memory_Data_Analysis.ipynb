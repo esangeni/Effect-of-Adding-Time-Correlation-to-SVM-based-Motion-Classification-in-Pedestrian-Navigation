{
 "cells": [
  {
   "cell_type": "code",
   "execution_count": 3,
   "metadata": {},
   "outputs": [
    {
     "data": {
      "text/html": [
       "<div>\n",
       "<style scoped>\n",
       "    .dataframe tbody tr th:only-of-type {\n",
       "        vertical-align: middle;\n",
       "    }\n",
       "\n",
       "    .dataframe tbody tr th {\n",
       "        vertical-align: top;\n",
       "    }\n",
       "\n",
       "    .dataframe thead th {\n",
       "        text-align: right;\n",
       "    }\n",
       "</style>\n",
       "<table border=\"1\" class=\"dataframe\">\n",
       "  <thead>\n",
       "    <tr style=\"text-align: right;\">\n",
       "      <th></th>\n",
       "      <th>0</th>\n",
       "      <th>1</th>\n",
       "      <th>2</th>\n",
       "      <th>3</th>\n",
       "      <th>4</th>\n",
       "      <th>5</th>\n",
       "      <th>6</th>\n",
       "      <th>7</th>\n",
       "      <th>8</th>\n",
       "      <th>9</th>\n",
       "      <th>...</th>\n",
       "      <th>90</th>\n",
       "      <th>91</th>\n",
       "      <th>92</th>\n",
       "      <th>93</th>\n",
       "      <th>94</th>\n",
       "      <th>95</th>\n",
       "      <th>96</th>\n",
       "      <th>97</th>\n",
       "      <th>98</th>\n",
       "      <th>99</th>\n",
       "    </tr>\n",
       "  </thead>\n",
       "  <tbody>\n",
       "    <tr>\n",
       "      <th>0</th>\n",
       "      <td>73.871795</td>\n",
       "      <td>113.293161</td>\n",
       "      <td>164.836949</td>\n",
       "      <td>28.731918</td>\n",
       "      <td>246.925488</td>\n",
       "      <td>145.474781</td>\n",
       "      <td>122.593665</td>\n",
       "      <td>196.234652</td>\n",
       "      <td>20.294706</td>\n",
       "      <td>130.255212</td>\n",
       "      <td>...</td>\n",
       "      <td>41.191585</td>\n",
       "      <td>218.130616</td>\n",
       "      <td>161.689654</td>\n",
       "      <td>147.123457</td>\n",
       "      <td>28.802732</td>\n",
       "      <td>198.33371</td>\n",
       "      <td>156.309056</td>\n",
       "      <td>32.798324</td>\n",
       "      <td>36.136558</td>\n",
       "      <td>250.316956</td>\n",
       "    </tr>\n",
       "  </tbody>\n",
       "</table>\n",
       "<p>1 rows × 100 columns</p>\n",
       "</div>"
      ],
      "text/plain": [
       "          0           1           2          3           4           5   \\\n",
       "0  73.871795  113.293161  164.836949  28.731918  246.925488  145.474781   \n",
       "\n",
       "           6           7          8           9   ...         90          91  \\\n",
       "0  122.593665  196.234652  20.294706  130.255212  ...  41.191585  218.130616   \n",
       "\n",
       "           92          93         94         95          96         97  \\\n",
       "0  161.689654  147.123457  28.802732  198.33371  156.309056  32.798324   \n",
       "\n",
       "          98          99  \n",
       "0  36.136558  250.316956  \n",
       "\n",
       "[1 rows x 100 columns]"
      ]
     },
     "execution_count": 3,
     "metadata": {},
     "output_type": "execute_result"
    }
   ],
   "source": [
    "import sys\n",
    "import pandas as pd\n",
    "import numpy as np\n",
    "\n",
    "window = 50\n",
    "sig = 2\n",
    "\n",
    "if sig == 2:\n",
    "    s = []\n",
    "    for i in range(window-1,-1,-1):\n",
    "        s = np.concatenate((s, [f'acc_t{i}', f'gyr_t{i}']))\n",
    "    df = pd.DataFrame(np.random.uniform(0,253,size=(1, window*2)))\n",
    "\n",
    "if sig == 6:\n",
    "    s = []\n",
    "    for i in range(window-1,-1,-1):\n",
    "        s = np.concatenate((s, [f'acc1_t{i}', f'acc2_t{i}', f'acc3_t{i}', f'gyro1_t{i}', f'gyro2_t{i}', f'gyro3_t{i}']))\n",
    "    df = pd.DataFrame(np.random.uniform(0,253,size=(1, window*6)), columns=s)\n",
    "\n",
    "df"
   ]
  },
  {
   "cell_type": "code",
   "execution_count": 4,
   "metadata": {},
   "outputs": [
    {
     "name": "stdout",
     "output_type": "stream",
     "text": [
      "The bytes per row with a window size of 50 are: 944\n"
     ]
    }
   ],
   "source": [
    "print('The bytes per row with a window size of '+ str(window) +' are:', sys.getsizeof(df))"
   ]
  }
 ],
 "metadata": {
  "kernelspec": {
   "display_name": "Python 3",
   "language": "python",
   "name": "python3"
  },
  "language_info": {
   "codemirror_mode": {
    "name": "ipython",
    "version": 3
   },
   "file_extension": ".py",
   "mimetype": "text/x-python",
   "name": "python",
   "nbconvert_exporter": "python",
   "pygments_lexer": "ipython3",
   "version": "3.10.5"
  },
  "orig_nbformat": 4
 },
 "nbformat": 4,
 "nbformat_minor": 2
}

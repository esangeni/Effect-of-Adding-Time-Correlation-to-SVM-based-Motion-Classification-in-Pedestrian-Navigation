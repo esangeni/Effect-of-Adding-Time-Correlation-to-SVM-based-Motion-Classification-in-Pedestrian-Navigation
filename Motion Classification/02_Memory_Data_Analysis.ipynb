{
 "cells": [
  {
   "cell_type": "code",
   "execution_count": 1,
   "metadata": {},
   "outputs": [
    {
     "data": {
      "text/html": [
       "<div>\n",
       "<style scoped>\n",
       "    .dataframe tbody tr th:only-of-type {\n",
       "        vertical-align: middle;\n",
       "    }\n",
       "\n",
       "    .dataframe tbody tr th {\n",
       "        vertical-align: top;\n",
       "    }\n",
       "\n",
       "    .dataframe thead th {\n",
       "        text-align: right;\n",
       "    }\n",
       "</style>\n",
       "<table border=\"1\" class=\"dataframe\">\n",
       "  <thead>\n",
       "    <tr style=\"text-align: right;\">\n",
       "      <th></th>\n",
       "      <th>acc1_t49</th>\n",
       "      <th>acc2_t49</th>\n",
       "      <th>acc3_t49</th>\n",
       "      <th>gyro1_t49</th>\n",
       "      <th>gyro2_t49</th>\n",
       "      <th>gyro3_t49</th>\n",
       "      <th>acc1_t48</th>\n",
       "      <th>acc2_t48</th>\n",
       "      <th>acc3_t48</th>\n",
       "      <th>gyro1_t48</th>\n",
       "      <th>...</th>\n",
       "      <th>acc3_t1</th>\n",
       "      <th>gyro1_t1</th>\n",
       "      <th>gyro2_t1</th>\n",
       "      <th>gyro3_t1</th>\n",
       "      <th>acc1_t0</th>\n",
       "      <th>acc2_t0</th>\n",
       "      <th>acc3_t0</th>\n",
       "      <th>gyro1_t0</th>\n",
       "      <th>gyro2_t0</th>\n",
       "      <th>gyro3_t0</th>\n",
       "    </tr>\n",
       "  </thead>\n",
       "  <tbody>\n",
       "    <tr>\n",
       "      <th>0</th>\n",
       "      <td>32.063231</td>\n",
       "      <td>79.543641</td>\n",
       "      <td>50.345879</td>\n",
       "      <td>76.609325</td>\n",
       "      <td>238.900679</td>\n",
       "      <td>56.681205</td>\n",
       "      <td>108.348237</td>\n",
       "      <td>9.869128</td>\n",
       "      <td>31.948021</td>\n",
       "      <td>83.767343</td>\n",
       "      <td>...</td>\n",
       "      <td>93.285131</td>\n",
       "      <td>171.847097</td>\n",
       "      <td>57.287724</td>\n",
       "      <td>83.822601</td>\n",
       "      <td>23.786843</td>\n",
       "      <td>251.152894</td>\n",
       "      <td>172.750264</td>\n",
       "      <td>111.365293</td>\n",
       "      <td>67.314738</td>\n",
       "      <td>86.296939</td>\n",
       "    </tr>\n",
       "  </tbody>\n",
       "</table>\n",
       "<p>1 rows × 300 columns</p>\n",
       "</div>"
      ],
      "text/plain": [
       "    acc1_t49   acc2_t49   acc3_t49  gyro1_t49   gyro2_t49  gyro3_t49  \\\n",
       "0  32.063231  79.543641  50.345879  76.609325  238.900679  56.681205   \n",
       "\n",
       "     acc1_t48  acc2_t48   acc3_t48  gyro1_t48  ...    acc3_t1    gyro1_t1  \\\n",
       "0  108.348237  9.869128  31.948021  83.767343  ...  93.285131  171.847097   \n",
       "\n",
       "    gyro2_t1   gyro3_t1    acc1_t0     acc2_t0     acc3_t0    gyro1_t0  \\\n",
       "0  57.287724  83.822601  23.786843  251.152894  172.750264  111.365293   \n",
       "\n",
       "    gyro2_t0   gyro3_t0  \n",
       "0  67.314738  86.296939  \n",
       "\n",
       "[1 rows x 300 columns]"
      ]
     },
     "execution_count": 1,
     "metadata": {},
     "output_type": "execute_result"
    }
   ],
   "source": [
    "import sys\n",
    "import pandas as pd\n",
    "import numpy as np\n",
    "\n",
    "window = 50\n",
    "sig = 6\n",
    "\n",
    "if sig == 2:\n",
    "    s = []\n",
    "    for i in range(window-1,-1,-1):\n",
    "        s = np.concatenate((s, [f'acc_t{i}', f'gyr_t{i}']))\n",
    "    df = pd.DataFrame(np.random.uniform(0,253,size=(1, window*2)))\n",
    "\n",
    "if sig == 6:\n",
    "    s = []\n",
    "    for i in range(window-1,-1,-1):\n",
    "        s = np.concatenate((s, [f'acc1_t{i}', f'acc2_t{i}', f'acc3_t{i}', f'gyro1_t{i}', f'gyro2_t{i}', f'gyro3_t{i}']))\n",
    "    df = pd.DataFrame(np.random.uniform(0,253,size=(1, window*6)), columns=s)\n",
    "\n",
    "df"
   ]
  },
  {
   "cell_type": "code",
   "execution_count": 2,
   "metadata": {},
   "outputs": [
    {
     "name": "stdout",
     "output_type": "stream",
     "text": [
      "The bytes per row with a window size of 50 are: 2544\n"
     ]
    }
   ],
   "source": [
    "print('The bytes per row with a window size of '+ str(window) +' are:', sys.getsizeof(df))"
   ]
  }
 ],
 "metadata": {
  "kernelspec": {
   "display_name": "Python 3",
   "language": "python",
   "name": "python3"
  },
  "language_info": {
   "codemirror_mode": {
    "name": "ipython",
    "version": 3
   },
   "file_extension": ".py",
   "mimetype": "text/x-python",
   "name": "python",
   "nbconvert_exporter": "python",
   "pygments_lexer": "ipython3",
   "version": "3.10.5"
  },
  "orig_nbformat": 4
 },
 "nbformat": 4,
 "nbformat_minor": 2
}

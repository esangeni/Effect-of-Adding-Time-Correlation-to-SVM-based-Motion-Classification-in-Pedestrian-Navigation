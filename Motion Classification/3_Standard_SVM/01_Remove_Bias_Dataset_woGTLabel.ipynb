{
 "cells": [
  {
   "cell_type": "markdown",
   "metadata": {},
   "source": [
    "---\n",
    "## **Remove bias for the ground truth unlabeled datasets used for navigation experiments**\n",
    "---"
   ]
  },
  {
   "cell_type": "markdown",
   "metadata": {},
   "source": [
    "<font size=\"2\">Eudald Sangenis  \n",
    "\n",
    "The objective of this file is to remove the bias of the ground truth unlabeled datasets used for navigation experiments.\n",
    "\n",
    "Parameters High Dimensional Dataset:  \n",
    "- type_dataset: train, test \n",
    "- data_dataset:  2022_03_17 (Subject I), 2022_04_25 (Subject II), 2022_07_27 (Subject III)\n",
    "</font>"
   ]
  },
  {
   "cell_type": "markdown",
   "metadata": {},
   "source": [
    "---\n",
    "## **<font size=\"5\">1. Libraries: </font>**\n",
    "---"
   ]
  },
  {
   "cell_type": "code",
   "execution_count": null,
   "metadata": {},
   "outputs": [],
   "source": [
    "import os\n",
    "import numpy as np\n",
    "import pandas as pd  \n",
    "import matplotlib.pyplot as plt\n",
    "\n",
    "# Get the current working directory\n",
    "current_directory = os.getcwd()"
   ]
  },
  {
   "cell_type": "markdown",
   "metadata": {},
   "source": [
    "---\n",
    "## **<font size=\"5\">2. Parameters to modify</font>**\n",
    "---"
   ]
  },
  {
   "cell_type": "code",
   "execution_count": null,
   "metadata": {},
   "outputs": [],
   "source": [
    "type_dataset = 'exp1000'       \n",
    "data_dataset = '2023_08_30' # 2023_08_23 (Subject II), 2023_08_30 (Subject III), 2023_09_07 (Subject I)"
   ]
  },
  {
   "cell_type": "code",
   "execution_count": null,
   "metadata": {},
   "outputs": [],
   "source": [
    "# Folder to read the labeled and HD datasets:\n",
    "dataset_path_unlabeled = current_directory+'\\\\datasets\\\\'+data_dataset+'\\\\'\n",
    "# Folder to save HD datsets:\n",
    "save_dataset_path = current_directory+'\\\\datasets\\\\'+data_dataset+'\\\\'"
   ]
  },
  {
   "cell_type": "markdown",
   "metadata": {},
   "source": [
    "---\n",
    "## **<font size=\"5\">3. Load datasets:</font>**\n",
    "---"
   ]
  },
  {
   "cell_type": "code",
   "execution_count": 113,
   "metadata": {},
   "outputs": [
    {
     "name": "stdout",
     "output_type": "stream",
     "text": [
      "Reading dataset 2023_08_30 ...\n",
      "Reading done!\n",
      "Shapes df:\n",
      "(61709, 6)\n"
     ]
    }
   ],
   "source": [
    "print('Reading dataset '+data_dataset+' ...')\n",
    "# Load the HD dataset\n",
    "df   = pd.read_csv(dataset_path_unlabeled +'6sig_'+type_dataset+'.csv')\n",
    "print('Reading done!')\n",
    "\n",
    "if 'Unnamed: 0' in df:   df   = df.drop(['Unnamed: 0'], axis=1)\n",
    "\n",
    "print('Shapes df:')\n",
    "print(df.shape)"
   ]
  },
  {
   "cell_type": "code",
   "execution_count": 114,
   "metadata": {},
   "outputs": [
    {
     "data": {
      "text/html": [
       "<div>\n",
       "<style scoped>\n",
       "    .dataframe tbody tr th:only-of-type {\n",
       "        vertical-align: middle;\n",
       "    }\n",
       "\n",
       "    .dataframe tbody tr th {\n",
       "        vertical-align: top;\n",
       "    }\n",
       "\n",
       "    .dataframe thead th {\n",
       "        text-align: right;\n",
       "    }\n",
       "</style>\n",
       "<table border=\"1\" class=\"dataframe\">\n",
       "  <thead>\n",
       "    <tr style=\"text-align: right;\">\n",
       "      <th></th>\n",
       "      <th>acc1</th>\n",
       "      <th>acc2</th>\n",
       "      <th>acc3</th>\n",
       "      <th>gyro1</th>\n",
       "      <th>gyro2</th>\n",
       "      <th>gyro3</th>\n",
       "    </tr>\n",
       "  </thead>\n",
       "  <tbody>\n",
       "    <tr>\n",
       "      <th>0</th>\n",
       "      <td>0.008516</td>\n",
       "      <td>0.036222</td>\n",
       "      <td>-0.985916</td>\n",
       "      <td>-0.000105</td>\n",
       "      <td>-0.003026</td>\n",
       "      <td>-0.019662</td>\n",
       "    </tr>\n",
       "    <tr>\n",
       "      <th>1</th>\n",
       "      <td>0.008699</td>\n",
       "      <td>0.036996</td>\n",
       "      <td>-0.980914</td>\n",
       "      <td>-0.001046</td>\n",
       "      <td>-0.002976</td>\n",
       "      <td>-0.020033</td>\n",
       "    </tr>\n",
       "  </tbody>\n",
       "</table>\n",
       "</div>"
      ],
      "text/plain": [
       "       acc1      acc2      acc3     gyro1     gyro2     gyro3\n",
       "0  0.008516  0.036222 -0.985916 -0.000105 -0.003026 -0.019662\n",
       "1  0.008699  0.036996 -0.980914 -0.001046 -0.002976 -0.020033"
      ]
     },
     "execution_count": 114,
     "metadata": {},
     "output_type": "execute_result"
    }
   ],
   "source": [
    "df.head(2)"
   ]
  },
  {
   "cell_type": "markdown",
   "metadata": {},
   "source": [
    "---\n",
    "## **<font size=\"5\">4. Remove Bias:</font>**\n",
    "---"
   ]
  },
  {
   "cell_type": "markdown",
   "metadata": {},
   "source": [
    "<font size=\"2\">Compute the bias of the first 800 values (1s) of the labeled datset:</font>"
   ]
  },
  {
   "cell_type": "code",
   "execution_count": 115,
   "metadata": {},
   "outputs": [
    {
     "data": {
      "text/plain": [
       "[<matplotlib.lines.Line2D at 0x26dcf6e73d0>,\n",
       " <matplotlib.lines.Line2D at 0x26dcf6e7430>,\n",
       " <matplotlib.lines.Line2D at 0x26dcf6e7550>,\n",
       " <matplotlib.lines.Line2D at 0x26dcf6e7670>,\n",
       " <matplotlib.lines.Line2D at 0x26dcf6e7790>,\n",
       " <matplotlib.lines.Line2D at 0x26dcf6e78b0>]"
      ]
     },
     "execution_count": 115,
     "metadata": {},
     "output_type": "execute_result"
    },
    {
     "data": {
      "image/png": "[encoded data removed]",
      "text/plain": [
       "<Figure size 432x288 with 1 Axes>"
      ]
     },
     "metadata": {
      "needs_background": "light"
     },
     "output_type": "display_data"
    }
   ],
   "source": [
    "plt.plot(df.index[1:400],  df[['acc1','acc2','acc3','gyro1','gyro2','gyro3']].iloc[1:400])"
   ]
  },
  {
   "cell_type": "code",
   "execution_count": 116,
   "metadata": {},
   "outputs": [
    {
     "data": {
      "text/plain": [
       "[0.0022877184757280596,\n",
       " 0.027494923515574015,\n",
       " -0.9809607748523494,\n",
       " 0.004230553884711776,\n",
       " -0.0031635213032581372,\n",
       " -0.020588453634085197]"
      ]
     },
     "execution_count": 116,
     "metadata": {},
     "output_type": "execute_result"
    }
   ],
   "source": [
    "bias_acc_1 = np.mean(df['acc1'].iloc[1:400])\n",
    "bias_acc_2 = np.mean(df['acc2'].iloc[1:400])\n",
    "bias_acc_3 = np.mean(df['acc3'].iloc[1:400])\n",
    "bias_gyr_1 = np.mean(df['gyro1'].iloc[1:400])\n",
    "bias_gyr_2 = np.mean(df['gyro2'].iloc[1:400])\n",
    "bias_gyr_3 = np.mean(df['gyro3'].iloc[1:400])\n",
    "[bias_acc_1, bias_acc_2, bias_acc_3, bias_gyr_1, bias_gyr_2, bias_gyr_3]"
   ]
  },
  {
   "cell_type": "code",
   "execution_count": 117,
   "metadata": {},
   "outputs": [
    {
     "data": {
      "text/plain": [
       "<AxesSubplot:>"
      ]
     },
     "execution_count": 117,
     "metadata": {},
     "output_type": "execute_result"
    },
    {
     "data": {
      "image/png": "[encoded data removed]",
      "text/plain": [
       "<Figure size 432x288 with 1 Axes>"
      ]
     },
     "metadata": {
      "needs_background": "light"
     },
     "output_type": "display_data"
    }
   ],
   "source": [
    "df['acc1'] = df['acc1'] - bias_acc_1\n",
    "df['acc2'] = df['acc2'] - bias_acc_2\n",
    "df['acc3'] = df['acc3'] - bias_acc_3\n",
    "df['gyro1'] = df['gyro1'] - bias_gyr_1\n",
    "df['gyro2'] = df['gyro2'] - bias_gyr_2\n",
    "df['gyro3'] = df['gyro3'] - bias_gyr_3\n",
    "\n",
    "df.plot(y = ['acc1', 'acc2', 'acc3'], use_index = True)"
   ]
  },
  {
   "cell_type": "code",
   "execution_count": 118,
   "metadata": {},
   "outputs": [
    {
     "data": {
      "text/plain": [
       "<AxesSubplot:>"
      ]
     },
     "execution_count": 118,
     "metadata": {},
     "output_type": "execute_result"
    },
    {
     "data": {
      "image/png": "[encoded data removed]",
      "text/plain": [
       "<Figure size 432x288 with 1 Axes>"
      ]
     },
     "metadata": {
      "needs_background": "light"
     },
     "output_type": "display_data"
    }
   ],
   "source": [
    "df.plot(y = ['gyro1', 'gyro2', 'gyro3'], use_index = True)"
   ]
  },
  {
   "cell_type": "code",
   "execution_count": 119,
   "metadata": {},
   "outputs": [],
   "source": [
    "df.to_csv(save_dataset_path +'6sig_'+type_dataset+'_no_Bias.csv', index=None, mode='a')"
   ]
  },
  {
   "cell_type": "code",
   "execution_count": 120,
   "metadata": {},
   "outputs": [
    {
     "data": {
      "text/html": [
       "<div>\n",
       "<style scoped>\n",
       "    .dataframe tbody tr th:only-of-type {\n",
       "        vertical-align: middle;\n",
       "    }\n",
       "\n",
       "    .dataframe tbody tr th {\n",
       "        vertical-align: top;\n",
       "    }\n",
       "\n",
       "    .dataframe thead th {\n",
       "        text-align: right;\n",
       "    }\n",
       "</style>\n",
       "<table border=\"1\" class=\"dataframe\">\n",
       "  <thead>\n",
       "    <tr style=\"text-align: right;\">\n",
       "      <th></th>\n",
       "      <th>acc1</th>\n",
       "      <th>acc2</th>\n",
       "      <th>acc3</th>\n",
       "      <th>gyro1</th>\n",
       "      <th>gyro2</th>\n",
       "      <th>gyro3</th>\n",
       "    </tr>\n",
       "  </thead>\n",
       "  <tbody>\n",
       "    <tr>\n",
       "      <th>0</th>\n",
       "      <td>0.006228</td>\n",
       "      <td>0.008727</td>\n",
       "      <td>-0.004955</td>\n",
       "      <td>-0.004336</td>\n",
       "      <td>0.000138</td>\n",
       "      <td>0.000926</td>\n",
       "    </tr>\n",
       "    <tr>\n",
       "      <th>1</th>\n",
       "      <td>0.006411</td>\n",
       "      <td>0.009501</td>\n",
       "      <td>0.000046</td>\n",
       "      <td>-0.005277</td>\n",
       "      <td>0.000188</td>\n",
       "      <td>0.000555</td>\n",
       "    </tr>\n",
       "    <tr>\n",
       "      <th>2</th>\n",
       "      <td>0.000045</td>\n",
       "      <td>0.004815</td>\n",
       "      <td>0.000036</td>\n",
       "      <td>-0.003813</td>\n",
       "      <td>0.000752</td>\n",
       "      <td>-0.000797</td>\n",
       "    </tr>\n",
       "    <tr>\n",
       "      <th>3</th>\n",
       "      <td>-0.003897</td>\n",
       "      <td>-0.000379</td>\n",
       "      <td>0.000209</td>\n",
       "      <td>-0.003494</td>\n",
       "      <td>0.002532</td>\n",
       "      <td>-0.001782</td>\n",
       "    </tr>\n",
       "    <tr>\n",
       "      <th>4</th>\n",
       "      <td>-0.002400</td>\n",
       "      <td>0.000924</td>\n",
       "      <td>-0.003172</td>\n",
       "      <td>-0.005712</td>\n",
       "      <td>0.001452</td>\n",
       "      <td>0.000397</td>\n",
       "    </tr>\n",
       "    <tr>\n",
       "      <th>...</th>\n",
       "      <td>...</td>\n",
       "      <td>...</td>\n",
       "      <td>...</td>\n",
       "      <td>...</td>\n",
       "      <td>...</td>\n",
       "      <td>...</td>\n",
       "    </tr>\n",
       "    <tr>\n",
       "      <th>61704</th>\n",
       "      <td>-0.011231</td>\n",
       "      <td>0.007963</td>\n",
       "      <td>0.003663</td>\n",
       "      <td>-0.000272</td>\n",
       "      <td>-0.006090</td>\n",
       "      <td>0.002084</td>\n",
       "    </tr>\n",
       "    <tr>\n",
       "      <th>61705</th>\n",
       "      <td>-0.012647</td>\n",
       "      <td>0.010438</td>\n",
       "      <td>0.000678</td>\n",
       "      <td>0.000244</td>\n",
       "      <td>-0.005344</td>\n",
       "      <td>0.002034</td>\n",
       "    </tr>\n",
       "    <tr>\n",
       "      <th>61706</th>\n",
       "      <td>-0.013900</td>\n",
       "      <td>0.008044</td>\n",
       "      <td>0.000617</td>\n",
       "      <td>0.001961</td>\n",
       "      <td>-0.003957</td>\n",
       "      <td>0.002030</td>\n",
       "    </tr>\n",
       "    <tr>\n",
       "      <th>61707</th>\n",
       "      <td>-0.010834</td>\n",
       "      <td>0.001444</td>\n",
       "      <td>-0.003763</td>\n",
       "      <td>-0.000133</td>\n",
       "      <td>-0.004880</td>\n",
       "      <td>0.003790</td>\n",
       "    </tr>\n",
       "    <tr>\n",
       "      <th>61708</th>\n",
       "      <td>-0.014389</td>\n",
       "      <td>-0.003150</td>\n",
       "      <td>-0.004772</td>\n",
       "      <td>-0.002113</td>\n",
       "      <td>-0.007387</td>\n",
       "      <td>0.005073</td>\n",
       "    </tr>\n",
       "  </tbody>\n",
       "</table>\n",
       "<p>61709 rows × 6 columns</p>\n",
       "</div>"
      ],
      "text/plain": [
       "           acc1      acc2      acc3     gyro1     gyro2     gyro3\n",
       "0      0.006228  0.008727 -0.004955 -0.004336  0.000138  0.000926\n",
       "1      0.006411  0.009501  0.000046 -0.005277  0.000188  0.000555\n",
       "2      0.000045  0.004815  0.000036 -0.003813  0.000752 -0.000797\n",
       "3     -0.003897 -0.000379  0.000209 -0.003494  0.002532 -0.001782\n",
       "4     -0.002400  0.000924 -0.003172 -0.005712  0.001452  0.000397\n",
       "...         ...       ...       ...       ...       ...       ...\n",
       "61704 -0.011231  0.007963  0.003663 -0.000272 -0.006090  0.002084\n",
       "61705 -0.012647  0.010438  0.000678  0.000244 -0.005344  0.002034\n",
       "61706 -0.013900  0.008044  0.000617  0.001961 -0.003957  0.002030\n",
       "61707 -0.010834  0.001444 -0.003763 -0.000133 -0.004880  0.003790\n",
       "61708 -0.014389 -0.003150 -0.004772 -0.002113 -0.007387  0.005073\n",
       "\n",
       "[61709 rows x 6 columns]"
      ]
     },
     "execution_count": 120,
     "metadata": {},
     "output_type": "execute_result"
    }
   ],
   "source": [
    "df"
   ]
  }
 ],
 "metadata": {
  "kernelspec": {
   "display_name": "Python 3.10.5 64-bit",
   "language": "python",
   "name": "python3"
  },
  "language_info": {
   "codemirror_mode": {
    "name": "ipython",
    "version": 3
   },
   "file_extension": ".py",
   "mimetype": "text/x-python",
   "name": "python",
   "nbconvert_exporter": "python",
   "pygments_lexer": "ipython3",
   "version": "3.10.5"
  },
  "orig_nbformat": 4,
  "vscode": {
   "interpreter": {
    "hash": "9103196f9419d8fa895c36bf5b3852f32d27a01beb0b11d5bcec3c7795f6c22a"
   }
  }
 },
 "nbformat": 4,
 "nbformat_minor": 2
}

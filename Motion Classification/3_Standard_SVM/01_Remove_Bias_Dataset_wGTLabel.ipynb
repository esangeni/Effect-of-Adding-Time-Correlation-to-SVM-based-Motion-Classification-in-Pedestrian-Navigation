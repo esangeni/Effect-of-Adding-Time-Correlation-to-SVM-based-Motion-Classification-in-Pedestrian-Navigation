{
 "cells": [
  {
   "cell_type": "markdown",
   "metadata": {},
   "source": [
    "---\n",
    "## **Remove Bias from the Train/Test Datasets**\n",
    "---"
   ]
  },
  {
   "cell_type": "markdown",
   "metadata": {},
   "source": [
    "<font size=\"2\">Eudald Sangenis  \n",
    "\n",
    "The objective of this file is to remove the bias of datasets (6 IMU signals (3xAcc and 3xGyro)).\n",
    "\n",
    "Parameters To Modify:\n",
    "- type_dataset: train, test \n",
    "- data_dataset:  2022_03_17 - Subject I (Chico)\n",
    "                 2022_07_27 - Subject II (Eudald)\n",
    "                 2022_07_27 - Subject III (Austin)"
   ]
  },
  {
   "cell_type": "markdown",
   "metadata": {},
   "source": [
    "---\n",
    "## **<font size=\"5\">1. Libraries: </font>**\n",
    "---"
   ]
  },
  {
   "cell_type": "code",
   "execution_count": null,
   "metadata": {},
   "outputs": [],
   "source": [
    "import os\n",
    "import numpy as np\n",
    "import pandas as pd\n",
    "import matplotlib.pyplot as plt\n",
    "\n",
    "# Get the current working directory\n",
    "current_directory = os.getcwd()\n"
   ]
  },
  {
   "cell_type": "markdown",
   "metadata": {},
   "source": [
    "---\n",
    "## **<font size=\"5\">2. Parameters to modify</font>**\n",
    "---"
   ]
  },
  {
   "cell_type": "code",
   "execution_count": 207,
   "metadata": {},
   "outputs": [],
   "source": [
    "type_dataset = 'test'       # train, test\n",
    "data_dataset = '2022_03_17'  # 2022_03_17 2022_04_25 2022_07_27 2022_08_01"
   ]
  },
  {
   "cell_type": "code",
   "execution_count": null,
   "metadata": {},
   "outputs": [],
   "source": [
    "# Folder to read the labeled datasets:\n",
    "dataset_path = current_directory+'\\\\datasets\\\\'+data_dataset+'\\\\'"
   ]
  },
  {
   "cell_type": "code",
   "execution_count": null,
   "metadata": {},
   "outputs": [],
   "source": [
    "# Folder to save labeled datsets without bias:\n",
    "save_dataset_path = current_directory+'\\\\datasets\\\\'+data_dataset+'\\\\'"
   ]
  },
  {
   "cell_type": "markdown",
   "metadata": {},
   "source": [
    "---\n",
    "## **<font size=\"5\">3. Read 6 sig datasets:</font>**\n",
    "---"
   ]
  },
  {
   "cell_type": "code",
   "execution_count": 210,
   "metadata": {},
   "outputs": [
    {
     "name": "stdout",
     "output_type": "stream",
     "text": [
      "Reading dataset 2022_03_17 ...\n",
      "Reading done!\n",
      "Shapes df & df_l:\n"
     ]
    },
    {
     "data": {
      "text/html": [
       "<div>\n",
       "<style scoped>\n",
       "    .dataframe tbody tr th:only-of-type {\n",
       "        vertical-align: middle;\n",
       "    }\n",
       "\n",
       "    .dataframe tbody tr th {\n",
       "        vertical-align: top;\n",
       "    }\n",
       "\n",
       "    .dataframe thead th {\n",
       "        text-align: right;\n",
       "    }\n",
       "</style>\n",
       "<table border=\"1\" class=\"dataframe\">\n",
       "  <thead>\n",
       "    <tr style=\"text-align: right;\">\n",
       "      <th></th>\n",
       "      <th>acc1</th>\n",
       "      <th>acc2</th>\n",
       "      <th>acc3</th>\n",
       "      <th>gyro1</th>\n",
       "      <th>gyro2</th>\n",
       "      <th>gyro3</th>\n",
       "      <th>label</th>\n",
       "    </tr>\n",
       "  </thead>\n",
       "  <tbody>\n",
       "    <tr>\n",
       "      <th>0</th>\n",
       "      <td>0.054496</td>\n",
       "      <td>0.013683</td>\n",
       "      <td>-0.966700</td>\n",
       "      <td>-0.000652</td>\n",
       "      <td>0.002393</td>\n",
       "      <td>0.021989</td>\n",
       "      <td>ZUPT</td>\n",
       "    </tr>\n",
       "    <tr>\n",
       "      <th>1</th>\n",
       "      <td>0.055462</td>\n",
       "      <td>0.012649</td>\n",
       "      <td>-0.967454</td>\n",
       "      <td>-0.001081</td>\n",
       "      <td>0.001593</td>\n",
       "      <td>0.021492</td>\n",
       "      <td>ZUPT</td>\n",
       "    </tr>\n",
       "    <tr>\n",
       "      <th>2</th>\n",
       "      <td>0.055335</td>\n",
       "      <td>0.012900</td>\n",
       "      <td>-0.966855</td>\n",
       "      <td>-0.000744</td>\n",
       "      <td>0.001462</td>\n",
       "      <td>0.021069</td>\n",
       "      <td>ZUPT</td>\n",
       "    </tr>\n",
       "    <tr>\n",
       "      <th>3</th>\n",
       "      <td>0.055307</td>\n",
       "      <td>0.013113</td>\n",
       "      <td>-0.966312</td>\n",
       "      <td>0.000032</td>\n",
       "      <td>0.001752</td>\n",
       "      <td>0.020630</td>\n",
       "      <td>ZUPT</td>\n",
       "    </tr>\n",
       "    <tr>\n",
       "      <th>4</th>\n",
       "      <td>0.056035</td>\n",
       "      <td>0.014941</td>\n",
       "      <td>-0.965898</td>\n",
       "      <td>0.000640</td>\n",
       "      <td>0.002589</td>\n",
       "      <td>0.020460</td>\n",
       "      <td>ZUPT</td>\n",
       "    </tr>\n",
       "    <tr>\n",
       "      <th>...</th>\n",
       "      <td>...</td>\n",
       "      <td>...</td>\n",
       "      <td>...</td>\n",
       "      <td>...</td>\n",
       "      <td>...</td>\n",
       "      <td>...</td>\n",
       "      <td>...</td>\n",
       "    </tr>\n",
       "    <tr>\n",
       "      <th>309976</th>\n",
       "      <td>0.047317</td>\n",
       "      <td>0.050851</td>\n",
       "      <td>-0.971659</td>\n",
       "      <td>0.009881</td>\n",
       "      <td>0.002747</td>\n",
       "      <td>0.017917</td>\n",
       "      <td>ZUPT</td>\n",
       "    </tr>\n",
       "    <tr>\n",
       "      <th>309977</th>\n",
       "      <td>0.046905</td>\n",
       "      <td>0.050681</td>\n",
       "      <td>-0.971899</td>\n",
       "      <td>0.009774</td>\n",
       "      <td>0.003047</td>\n",
       "      <td>0.018088</td>\n",
       "      <td>ZUPT</td>\n",
       "    </tr>\n",
       "    <tr>\n",
       "      <th>309978</th>\n",
       "      <td>0.046916</td>\n",
       "      <td>0.051412</td>\n",
       "      <td>-0.970592</td>\n",
       "      <td>0.009553</td>\n",
       "      <td>0.003168</td>\n",
       "      <td>0.018436</td>\n",
       "      <td>ZUPT</td>\n",
       "    </tr>\n",
       "    <tr>\n",
       "      <th>309979</th>\n",
       "      <td>0.046765</td>\n",
       "      <td>0.053066</td>\n",
       "      <td>-0.970593</td>\n",
       "      <td>0.009953</td>\n",
       "      <td>0.002888</td>\n",
       "      <td>0.018851</td>\n",
       "      <td>ZUPT</td>\n",
       "    </tr>\n",
       "    <tr>\n",
       "      <th>309980</th>\n",
       "      <td>0.046626</td>\n",
       "      <td>0.054777</td>\n",
       "      <td>-0.969859</td>\n",
       "      <td>0.010708</td>\n",
       "      <td>0.002981</td>\n",
       "      <td>0.018867</td>\n",
       "      <td>ZUPT</td>\n",
       "    </tr>\n",
       "  </tbody>\n",
       "</table>\n",
       "<p>309981 rows × 7 columns</p>\n",
       "</div>"
      ],
      "text/plain": [
       "            acc1      acc2      acc3     gyro1     gyro2     gyro3 label\n",
       "0       0.054496  0.013683 -0.966700 -0.000652  0.002393  0.021989  ZUPT\n",
       "1       0.055462  0.012649 -0.967454 -0.001081  0.001593  0.021492  ZUPT\n",
       "2       0.055335  0.012900 -0.966855 -0.000744  0.001462  0.021069  ZUPT\n",
       "3       0.055307  0.013113 -0.966312  0.000032  0.001752  0.020630  ZUPT\n",
       "4       0.056035  0.014941 -0.965898  0.000640  0.002589  0.020460  ZUPT\n",
       "...          ...       ...       ...       ...       ...       ...   ...\n",
       "309976  0.047317  0.050851 -0.971659  0.009881  0.002747  0.017917  ZUPT\n",
       "309977  0.046905  0.050681 -0.971899  0.009774  0.003047  0.018088  ZUPT\n",
       "309978  0.046916  0.051412 -0.970592  0.009553  0.003168  0.018436  ZUPT\n",
       "309979  0.046765  0.053066 -0.970593  0.009953  0.002888  0.018851  ZUPT\n",
       "309980  0.046626  0.054777 -0.969859  0.010708  0.002981  0.018867  ZUPT\n",
       "\n",
       "[309981 rows x 7 columns]"
      ]
     },
     "execution_count": 210,
     "metadata": {},
     "output_type": "execute_result"
    }
   ],
   "source": [
    "print('Reading dataset '+data_dataset+' ...')\n",
    "# Load the labeled 2sig dataset\n",
    "df   = pd.read_csv(dataset_path + '6sig_'+type_dataset+'.csv')\n",
    "print('Reading done!')\n",
    "\n",
    "if 'Unnamed: 0' in df:     df   = df.drop(['Unnamed: 0'], axis=1)\n",
    "if 'Unnamed: 0.1' in df:   df   = df.drop(['Unnamed: 0.1'], axis=1)\n",
    "if 'timestamp' in df:     df   = df.drop(['timestamp'], axis=1)\n",
    "\n",
    "print('Shapes df & df_l:')\n",
    "df"
   ]
  },
  {
   "cell_type": "markdown",
   "metadata": {},
   "source": [
    "---\n",
    "## **<font size=\"5\">4. Remove Bias:</font>**\n",
    "---"
   ]
  },
  {
   "cell_type": "markdown",
   "metadata": {},
   "source": [
    "<font size=\"2\">Compute the bias of the first 800 values (1s) of the labeled datset:</font>"
   ]
  },
  {
   "cell_type": "code",
   "execution_count": 211,
   "metadata": {},
   "outputs": [],
   "source": [
    "bias_window = 800 # (1s)"
   ]
  },
  {
   "cell_type": "code",
   "execution_count": 212,
   "metadata": {},
   "outputs": [
    {
     "data": {
      "text/plain": [
       "[<matplotlib.lines.Line2D at 0x2296581c3d0>,\n",
       " <matplotlib.lines.Line2D at 0x2296581c430>,\n",
       " <matplotlib.lines.Line2D at 0x2296581c550>,\n",
       " <matplotlib.lines.Line2D at 0x2296581c670>,\n",
       " <matplotlib.lines.Line2D at 0x2296581c790>,\n",
       " <matplotlib.lines.Line2D at 0x2296581c8b0>]"
      ]
     },
     "execution_count": 212,
     "metadata": {},
     "output_type": "execute_result"
    },
    {
     "data": {
      "image/png": "[encoded data removed]",
      "text/plain": [
       "<Figure size 432x288 with 1 Axes>"
      ]
     },
     "metadata": {
      "needs_background": "light"
     },
     "output_type": "display_data"
    }
   ],
   "source": [
    "plt.plot(df.index[1:bias_window],  df[['acc1','acc2','acc3','gyro1','gyro2','gyro3']].iloc[1:bias_window])"
   ]
  },
  {
   "cell_type": "code",
   "execution_count": 213,
   "metadata": {},
   "outputs": [
    {
     "data": {
      "text/plain": [
       "[0.053055264114939944,\n",
       " 0.013862988067034773,\n",
       " -0.9652291677188674,\n",
       " 0.005906388247408445,\n",
       " 0.002896500557820401,\n",
       " 0.020693501890158297]"
      ]
     },
     "execution_count": 213,
     "metadata": {},
     "output_type": "execute_result"
    }
   ],
   "source": [
    "bias_acc_1 = np.mean(df['acc1'].iloc[1:bias_window])\n",
    "bias_acc_2 = np.mean(df['acc2'].iloc[1:bias_window])\n",
    "bias_acc_3 = np.mean(df['acc3'].iloc[1:bias_window])\n",
    "bias_gyr_1 = np.mean(df['gyro1'].iloc[1:bias_window])\n",
    "bias_gyr_2 = np.mean(df['gyro2'].iloc[1:bias_window])\n",
    "bias_gyr_3 = np.mean(df['gyro3'].iloc[1:bias_window])\n",
    "[bias_acc_1, bias_acc_2, bias_acc_3, bias_gyr_1, bias_gyr_2, bias_gyr_3]"
   ]
  },
  {
   "cell_type": "code",
   "execution_count": 214,
   "metadata": {},
   "outputs": [
    {
     "data": {
      "text/plain": [
       "0         0.001441\n",
       "1         0.002407\n",
       "2         0.002280\n",
       "3         0.002252\n",
       "4         0.002979\n",
       "            ...   \n",
       "309976   -0.005738\n",
       "309977   -0.006151\n",
       "309978   -0.006139\n",
       "309979   -0.006290\n",
       "309980   -0.006429\n",
       "Name: acc1, Length: 309981, dtype: float64"
      ]
     },
     "execution_count": 214,
     "metadata": {},
     "output_type": "execute_result"
    }
   ],
   "source": [
    "df['acc1']  - bias_acc_1"
   ]
  },
  {
   "cell_type": "code",
   "execution_count": 215,
   "metadata": {},
   "outputs": [],
   "source": [
    "df['acc1']  = df['acc1']  - bias_acc_1\n",
    "df['gyro1'] = df['gyro1'] - bias_gyr_1\n",
    "df['acc2']  = df['acc2']  - bias_acc_2\n",
    "df['gyro2'] = df['gyro2'] - bias_gyr_2\n",
    "df['acc3']  = df['acc3']  - bias_acc_3\n",
    "df['gyro3'] = df['gyro3'] - bias_gyr_3"
   ]
  },
  {
   "cell_type": "code",
   "execution_count": 216,
   "metadata": {},
   "outputs": [
    {
     "data": {
      "text/plain": [
       "<AxesSubplot:>"
      ]
     },
     "execution_count": 216,
     "metadata": {},
     "output_type": "execute_result"
    },
    {
     "data": {
      "image/png": "[encoded data removed]",
      "text/plain": [
       "<Figure size 432x288 with 1 Axes>"
      ]
     },
     "metadata": {
      "needs_background": "light"
     },
     "output_type": "display_data"
    }
   ],
   "source": [
    "df.plot(y = ['acc1', 'acc2', 'acc3'], use_index = True)"
   ]
  },
  {
   "cell_type": "code",
   "execution_count": 217,
   "metadata": {},
   "outputs": [
    {
     "data": {
      "text/html": [
       "<div>\n",
       "<style scoped>\n",
       "    .dataframe tbody tr th:only-of-type {\n",
       "        vertical-align: middle;\n",
       "    }\n",
       "\n",
       "    .dataframe tbody tr th {\n",
       "        vertical-align: top;\n",
       "    }\n",
       "\n",
       "    .dataframe thead th {\n",
       "        text-align: right;\n",
       "    }\n",
       "</style>\n",
       "<table border=\"1\" class=\"dataframe\">\n",
       "  <thead>\n",
       "    <tr style=\"text-align: right;\">\n",
       "      <th></th>\n",
       "      <th>acc1</th>\n",
       "      <th>acc2</th>\n",
       "      <th>acc3</th>\n",
       "      <th>gyro1</th>\n",
       "      <th>gyro2</th>\n",
       "      <th>gyro3</th>\n",
       "      <th>label</th>\n",
       "    </tr>\n",
       "  </thead>\n",
       "  <tbody>\n",
       "    <tr>\n",
       "      <th>0</th>\n",
       "      <td>0.001441</td>\n",
       "      <td>-0.000180</td>\n",
       "      <td>-0.001471</td>\n",
       "      <td>-0.006558</td>\n",
       "      <td>-0.000504</td>\n",
       "      <td>0.001295</td>\n",
       "      <td>ZUPT</td>\n",
       "    </tr>\n",
       "    <tr>\n",
       "      <th>1</th>\n",
       "      <td>0.002407</td>\n",
       "      <td>-0.001214</td>\n",
       "      <td>-0.002225</td>\n",
       "      <td>-0.006987</td>\n",
       "      <td>-0.001303</td>\n",
       "      <td>0.000798</td>\n",
       "      <td>ZUPT</td>\n",
       "    </tr>\n",
       "    <tr>\n",
       "      <th>2</th>\n",
       "      <td>0.002280</td>\n",
       "      <td>-0.000963</td>\n",
       "      <td>-0.001625</td>\n",
       "      <td>-0.006650</td>\n",
       "      <td>-0.001435</td>\n",
       "      <td>0.000375</td>\n",
       "      <td>ZUPT</td>\n",
       "    </tr>\n",
       "  </tbody>\n",
       "</table>\n",
       "</div>"
      ],
      "text/plain": [
       "       acc1      acc2      acc3     gyro1     gyro2     gyro3 label\n",
       "0  0.001441 -0.000180 -0.001471 -0.006558 -0.000504  0.001295  ZUPT\n",
       "1  0.002407 -0.001214 -0.002225 -0.006987 -0.001303  0.000798  ZUPT\n",
       "2  0.002280 -0.000963 -0.001625 -0.006650 -0.001435  0.000375  ZUPT"
      ]
     },
     "execution_count": 217,
     "metadata": {},
     "output_type": "execute_result"
    }
   ],
   "source": [
    "df.head(3)"
   ]
  },
  {
   "cell_type": "code",
   "execution_count": null,
   "metadata": {},
   "outputs": [],
   "source": [
    "# Save the dataset after removing the bias from the IMU readings\n",
    "df.to_csv(save_dataset_path + '6sig_'+type_dataset+'_no_Bias.csv', index=None, mode='a')"
   ]
  }
 ],
 "metadata": {
  "kernelspec": {
   "display_name": "Python 3",
   "language": "python",
   "name": "python3"
  },
  "language_info": {
   "codemirror_mode": {
    "name": "ipython",
    "version": 3
   },
   "file_extension": ".py",
   "mimetype": "text/x-python",
   "name": "python",
   "nbconvert_exporter": "python",
   "pygments_lexer": "ipython3",
   "version": "3.10.5"
  },
  "orig_nbformat": 4
 },
 "nbformat": 4,
 "nbformat_minor": 2
}

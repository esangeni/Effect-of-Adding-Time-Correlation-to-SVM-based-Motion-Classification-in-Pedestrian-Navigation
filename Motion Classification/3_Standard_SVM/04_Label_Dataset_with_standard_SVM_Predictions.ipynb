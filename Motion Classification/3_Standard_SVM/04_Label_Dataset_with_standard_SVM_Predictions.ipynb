{
 "cells": [
  {
   "cell_type": "markdown",
   "metadata": {},
   "source": [
    "---\n",
    "## **Label the Navigation Experiments Datasets based on the Standard SVM Predictions**\n",
    "---"
   ]
  },
  {
   "cell_type": "markdown",
   "metadata": {},
   "source": [
    "<font size=\"2\">Eudald Sangenis  \n",
    "Creation: 7/13/2022  \n",
    "Last Update: 7/13/2022  \n",
    "\n",
    "The objective of this file is to predict the labels of test navigation datasets SVM classifier:  \n",
    "\n",
    "Once this classifier is tested the next step is to verify the navigation solution.</font>"
   ]
  },
  {
   "cell_type": "markdown",
   "metadata": {},
   "source": [
    "---\n",
    "## **<font size=\"5\">1. Libraries</font>**\n",
    "---"
   ]
  },
  {
   "cell_type": "code",
   "execution_count": null,
   "metadata": {},
   "outputs": [],
   "source": [
    "import os\n",
    "import pickle\n",
    "import pandas as pd\n",
    "from sklearn.preprocessing import StandardScaler\n",
    "\n",
    "# Get the current working directory\n",
    "current_directory = os.getcwd()"
   ]
  },
  {
   "cell_type": "markdown",
   "metadata": {},
   "source": [
    "---\n",
    "## **<font size=\"5\">2. Parameters to modify</font>**\n",
    "---"
   ]
  },
  {
   "cell_type": "markdown",
   "metadata": {},
   "source": [
    "<font size=\"2\">Boolean variable:\n",
    "* True: Predict the test datasets\n",
    "* False: Import already a done prediction</font>"
   ]
  },
  {
   "cell_type": "code",
   "execution_count": 294,
   "metadata": {},
   "outputs": [],
   "source": [
    "prediction = True"
   ]
  },
  {
   "cell_type": "markdown",
   "metadata": {},
   "source": [
    "<font size=\"2\">Path High Dimensional Datasets to test the classifier:</font>"
   ]
  },
  {
   "cell_type": "code",
   "execution_count": 295,
   "metadata": {},
   "outputs": [],
   "source": [
    "type_dataset = 'test'       # train, test\n",
    "data_dataset = '2023_08_30' # 2022_03_17, 2022_04_25, 2022_07_27, 2022_08_01\n",
    "bias_dataset = True         # True (no Bias), False (Bias).\n",
    "num_df_used_to_train = 4    # 2 (2022_03_17 & 2022_04_25), 3 (2022_07_27 or 2022_08_01)\n",
    "opt_label = False\n",
    "\n",
    "exp = 'exp1100'"
   ]
  },
  {
   "cell_type": "code",
   "execution_count": 296,
   "metadata": {},
   "outputs": [],
   "source": [
    "# Folder to read the labeled and HD datasets:\n",
    "dataset_path = 'G:\\\\Shared drives\\\\NIST-Pedestrian Activity Classification\\\\motion classification\\\\4_6sig_SVM_Paper_Results\\\\datasets\\\\'+data_dataset+'\\\\'"
   ]
  },
  {
   "cell_type": "markdown",
   "metadata": {},
   "source": [
    "<font size=\"2\">Path to the High Dimensional Classifier:</font>"
   ]
  },
  {
   "cell_type": "code",
   "execution_count": 297,
   "metadata": {},
   "outputs": [
    {
     "name": "stdout",
     "output_type": "stream",
     "text": [
      "Classifier Loaded!\n"
     ]
    }
   ],
   "source": [
    "# Folder classifier:\n",
    "folder_clf = 'G:\\\\Shared drives\\\\NIST-Pedestrian Activity Classification\\\\motion classification\\\\4_6sig_SVM_Paper_Results\\\\'\n",
    "# Classifier Name:\n",
    "if opt_label == False: name_clf = '6sig_no_bias_balanced_clf.sav'\n",
    "if opt_label == True: name_clf = '6sig_no_bias_balanced_opt_label_clf.sav'\n",
    "\n",
    "if prediction == True:\n",
    "    support = pickle.load(open(folder_clf + name_clf, 'rb'))    # read clf model\n",
    "    print('Classifier Loaded!')"
   ]
  },
  {
   "cell_type": "markdown",
   "metadata": {},
   "source": [
    "<font size=\"2\">Path to the predicted labels dataset:</font>"
   ]
  },
  {
   "cell_type": "code",
   "execution_count": 298,
   "metadata": {},
   "outputs": [],
   "source": [
    "folder_label_predicted = 'G:\\\\Shared drives\\\\NIST-Pedestrian Activity Classification\\\\motion classification\\\\4_6sig_SVM_Paper_Results\\\\'\n",
    "if opt_label == False: l_predicted_name = data_dataset + '_6sig_'+exp+'_Y_predicted'\n",
    "if opt_label == True: l_predicted_name = data_dataset + '_6sig_'+exp+'_opt_label_Y_predicted'"
   ]
  },
  {
   "cell_type": "markdown",
   "metadata": {},
   "source": [
    "---\n",
    "## **<font size=\"5\">3. Load Trained Model Dataset:</font>**\n",
    "---"
   ]
  },
  {
   "cell_type": "code",
   "execution_count": 299,
   "metadata": {},
   "outputs": [
    {
     "name": "stdout",
     "output_type": "stream",
     "text": [
      "Reading datasets...\n",
      "Reading done!\n",
      "Shape concat dfs: \n",
      "(1258319, 8)\n"
     ]
    },
    {
     "data": {
      "text/html": [
       "<div>\n",
       "<style scoped>\n",
       "    .dataframe tbody tr th:only-of-type {\n",
       "        vertical-align: middle;\n",
       "    }\n",
       "\n",
       "    .dataframe tbody tr th {\n",
       "        vertical-align: top;\n",
       "    }\n",
       "\n",
       "    .dataframe thead th {\n",
       "        text-align: right;\n",
       "    }\n",
       "</style>\n",
       "<table border=\"1\" class=\"dataframe\">\n",
       "  <thead>\n",
       "    <tr style=\"text-align: right;\">\n",
       "      <th></th>\n",
       "      <th>acc1</th>\n",
       "      <th>acc2</th>\n",
       "      <th>acc3</th>\n",
       "      <th>gyro1</th>\n",
       "      <th>gyro2</th>\n",
       "      <th>gyro3</th>\n",
       "      <th>label</th>\n",
       "      <th>label_opt</th>\n",
       "    </tr>\n",
       "  </thead>\n",
       "  <tbody>\n",
       "    <tr>\n",
       "      <th>0</th>\n",
       "      <td>-0.000185</td>\n",
       "      <td>-0.000006</td>\n",
       "      <td>-0.001230</td>\n",
       "      <td>0.001092</td>\n",
       "      <td>-0.000120</td>\n",
       "      <td>0.000005</td>\n",
       "      <td>ZUPT</td>\n",
       "      <td>ZUPT</td>\n",
       "    </tr>\n",
       "    <tr>\n",
       "      <th>1</th>\n",
       "      <td>0.000679</td>\n",
       "      <td>-0.000392</td>\n",
       "      <td>-0.000402</td>\n",
       "      <td>0.000803</td>\n",
       "      <td>0.000307</td>\n",
       "      <td>0.000113</td>\n",
       "      <td>ZUPT</td>\n",
       "      <td>ZUPT</td>\n",
       "    </tr>\n",
       "    <tr>\n",
       "      <th>2</th>\n",
       "      <td>-0.000223</td>\n",
       "      <td>-0.000151</td>\n",
       "      <td>-0.000217</td>\n",
       "      <td>0.000137</td>\n",
       "      <td>0.000536</td>\n",
       "      <td>0.000121</td>\n",
       "      <td>ZUPT</td>\n",
       "      <td>ZUPT</td>\n",
       "    </tr>\n",
       "    <tr>\n",
       "      <th>3</th>\n",
       "      <td>-0.000659</td>\n",
       "      <td>-0.000893</td>\n",
       "      <td>0.000353</td>\n",
       "      <td>-0.000083</td>\n",
       "      <td>0.000386</td>\n",
       "      <td>-0.000252</td>\n",
       "      <td>ZUPT</td>\n",
       "      <td>ZUPT</td>\n",
       "    </tr>\n",
       "    <tr>\n",
       "      <th>4</th>\n",
       "      <td>-0.000044</td>\n",
       "      <td>-0.001524</td>\n",
       "      <td>0.000693</td>\n",
       "      <td>-0.000007</td>\n",
       "      <td>-0.000333</td>\n",
       "      <td>-0.000293</td>\n",
       "      <td>ZUPT</td>\n",
       "      <td>ZUPT</td>\n",
       "    </tr>\n",
       "    <tr>\n",
       "      <th>...</th>\n",
       "      <td>...</td>\n",
       "      <td>...</td>\n",
       "      <td>...</td>\n",
       "      <td>...</td>\n",
       "      <td>...</td>\n",
       "      <td>...</td>\n",
       "      <td>...</td>\n",
       "      <td>...</td>\n",
       "    </tr>\n",
       "    <tr>\n",
       "      <th>1258314</th>\n",
       "      <td>-0.009891</td>\n",
       "      <td>0.022864</td>\n",
       "      <td>-0.000014</td>\n",
       "      <td>0.003930</td>\n",
       "      <td>-0.001750</td>\n",
       "      <td>-0.001023</td>\n",
       "      <td>ZUPT</td>\n",
       "      <td>ZUPT</td>\n",
       "    </tr>\n",
       "    <tr>\n",
       "      <th>1258315</th>\n",
       "      <td>-0.009162</td>\n",
       "      <td>0.026353</td>\n",
       "      <td>-0.002528</td>\n",
       "      <td>0.003737</td>\n",
       "      <td>-0.003283</td>\n",
       "      <td>-0.002351</td>\n",
       "      <td>ZUPT</td>\n",
       "      <td>ZUPT</td>\n",
       "    </tr>\n",
       "    <tr>\n",
       "      <th>1258316</th>\n",
       "      <td>-0.008378</td>\n",
       "      <td>0.024085</td>\n",
       "      <td>-0.005930</td>\n",
       "      <td>0.004541</td>\n",
       "      <td>-0.004459</td>\n",
       "      <td>-0.003415</td>\n",
       "      <td>ZUPT</td>\n",
       "      <td>ZUPT</td>\n",
       "    </tr>\n",
       "    <tr>\n",
       "      <th>1258317</th>\n",
       "      <td>-0.015185</td>\n",
       "      <td>0.024992</td>\n",
       "      <td>-0.002349</td>\n",
       "      <td>0.004476</td>\n",
       "      <td>-0.003342</td>\n",
       "      <td>-0.002566</td>\n",
       "      <td>ZUPT</td>\n",
       "      <td>ZUPT</td>\n",
       "    </tr>\n",
       "    <tr>\n",
       "      <th>1258318</th>\n",
       "      <td>-0.017220</td>\n",
       "      <td>0.024498</td>\n",
       "      <td>-0.003997</td>\n",
       "      <td>0.003889</td>\n",
       "      <td>-0.003336</td>\n",
       "      <td>-0.002246</td>\n",
       "      <td>ZUPT</td>\n",
       "      <td>ZUPT</td>\n",
       "    </tr>\n",
       "  </tbody>\n",
       "</table>\n",
       "<p>1258319 rows × 8 columns</p>\n",
       "</div>"
      ],
      "text/plain": [
       "             acc1      acc2      acc3     gyro1     gyro2     gyro3 label  \\\n",
       "0       -0.000185 -0.000006 -0.001230  0.001092 -0.000120  0.000005  ZUPT   \n",
       "1        0.000679 -0.000392 -0.000402  0.000803  0.000307  0.000113  ZUPT   \n",
       "2       -0.000223 -0.000151 -0.000217  0.000137  0.000536  0.000121  ZUPT   \n",
       "3       -0.000659 -0.000893  0.000353 -0.000083  0.000386 -0.000252  ZUPT   \n",
       "4       -0.000044 -0.001524  0.000693 -0.000007 -0.000333 -0.000293  ZUPT   \n",
       "...           ...       ...       ...       ...       ...       ...   ...   \n",
       "1258314 -0.009891  0.022864 -0.000014  0.003930 -0.001750 -0.001023  ZUPT   \n",
       "1258315 -0.009162  0.026353 -0.002528  0.003737 -0.003283 -0.002351  ZUPT   \n",
       "1258316 -0.008378  0.024085 -0.005930  0.004541 -0.004459 -0.003415  ZUPT   \n",
       "1258317 -0.015185  0.024992 -0.002349  0.004476 -0.003342 -0.002566  ZUPT   \n",
       "1258318 -0.017220  0.024498 -0.003997  0.003889 -0.003336 -0.002246  ZUPT   \n",
       "\n",
       "        label_opt  \n",
       "0            ZUPT  \n",
       "1            ZUPT  \n",
       "2            ZUPT  \n",
       "3            ZUPT  \n",
       "4            ZUPT  \n",
       "...           ...  \n",
       "1258314      ZUPT  \n",
       "1258315      ZUPT  \n",
       "1258316      ZUPT  \n",
       "1258317      ZUPT  \n",
       "1258318      ZUPT  \n",
       "\n",
       "[1258319 rows x 8 columns]"
      ]
     },
     "execution_count": 299,
     "metadata": {},
     "output_type": "execute_result"
    }
   ],
   "source": [
    "type_dataset_model = 'train'      # train, test\n",
    "data_dataset_1 = '2022_03_17'\n",
    "data_dataset_2 = '2022_04_25'\n",
    "data_dataset_3 = '2022_07_27'\n",
    "data_dataset_4 = '2022_08_01'\n",
    "\n",
    "dataset_path_1 = 'G:\\\\Shared drives\\\\NIST-Pedestrian Activity Classification\\\\motion classification\\\\4_6sig_SVM_Paper_Results\\\\datasets\\\\'+data_dataset_1+'\\\\'\n",
    "dataset_path_2 = 'G:\\\\Shared drives\\\\NIST-Pedestrian Activity Classification\\\\motion classification\\\\4_6sig_SVM_Paper_Results\\\\datasets\\\\'+data_dataset_2+'\\\\'\n",
    "dataset_path_3 = 'G:\\\\Shared drives\\\\NIST-Pedestrian Activity Classification\\\\motion classification\\\\4_6sig_SVM_Paper_Results\\\\datasets\\\\'+data_dataset_3+'\\\\'\n",
    "dataset_path_4 = 'G:\\\\Shared drives\\\\NIST-Pedestrian Activity Classification\\\\motion classification\\\\4_6sig_SVM_Paper_Results\\\\datasets\\\\'+data_dataset_4+'\\\\'\n",
    "print('Reading datasets...')\n",
    "# Load the HD dataset\n",
    "if bias_dataset == False:\n",
    "    if num_df_used_to_train == 2:\n",
    "        df_1 = pd.read_csv(dataset_path_1 + '6sig_'+type_dataset_model+'.csv')\n",
    "        df_2 = pd.read_csv(dataset_path_2 + '6sig_'+type_dataset_model+'.csv')\n",
    "\n",
    "    if num_df_used_to_train == 3: \n",
    "        df_1 = pd.read_csv(dataset_path_1 + '6sig_'+type_dataset_model+'.csv')\n",
    "        df_2 = pd.read_csv(dataset_path_2 + '6sig_'+type_dataset_model+'.csv')\n",
    "        df_3 = pd.read_csv(dataset_path_3 + '6sig_'+type_dataset_model+'.csv')\n",
    "    \n",
    "    if num_df_used_to_train == 4: \n",
    "        df_1 = pd.read_csv(dataset_path_1 + '6sig_'+type_dataset_model+'.csv')\n",
    "        df_2 = pd.read_csv(dataset_path_2 + '6sig_'+type_dataset_model+'.csv')\n",
    "        df_3 = pd.read_csv(dataset_path_3 + '6sig_'+type_dataset_model+'.csv')\n",
    "        df_4 = pd.read_csv(dataset_path_4 + '6sig_'+type_dataset_model+'.csv')\n",
    "\n",
    "if bias_dataset == True:\n",
    "    if num_df_used_to_train == 2:\n",
    "        df_1 = pd.read_csv(dataset_path_1 + '6sig_'+type_dataset_model+'_no_Bias_optimal_label.csv')\n",
    "        df_2 = pd.read_csv(dataset_path_2 + '6sig_'+type_dataset_model+'_no_Bias_optimal_label.csv')\n",
    "\n",
    "    if num_df_used_to_train == 3: \n",
    "        df_1 = pd.read_csv(dataset_path_1 + '6sig_'+type_dataset_model+'_no_Bias_optimal_label.csv')\n",
    "        df_2 = pd.read_csv(dataset_path_2 + '6sig_'+type_dataset_model+'_no_Bias_optimal_label.csv')\n",
    "        df_3 = pd.read_csv(dataset_path_3 + '6sig_'+type_dataset_model+'_no_Bias_optimal_label.csv')\n",
    "    \n",
    "    if num_df_used_to_train == 4: \n",
    "        df_1 = pd.read_csv(dataset_path_1 + '6sig_'+type_dataset_model+'_no_Bias_optimal_label.csv')\n",
    "        df_2 = pd.read_csv(dataset_path_2 + '6sig_'+type_dataset_model+'_no_Bias_optimal_label.csv')\n",
    "        df_3 = pd.read_csv(dataset_path_3 + '6sig_'+type_dataset_model+'_no_Bias_optimal_label.csv')\n",
    "        df_4 = pd.read_csv(dataset_path_4 + '6sig_'+type_dataset_model+'_no_Bias_optimal_label.csv')\n",
    "\n",
    "print('Reading done!')\n",
    "\n",
    "if 'Unnamed: 0' in df_1: df_1 = df_1.drop(['Unnamed: 0'], axis=1)\n",
    "if 'Unnamed: 0' in df_1: df_2 = df_2.drop(['Unnamed: 0'], axis=1)\n",
    "if num_df_used_to_train == 3: \n",
    "    if 'Unnamed: 0' in df_3: df_3 = df_3.drop(['Unnamed: 0'], axis=1)\n",
    "if num_df_used_to_train == 4: \n",
    "    if 'Unnamed: 0' in df_3: df_3 = df_3.drop(['Unnamed: 0'], axis=1)\n",
    "    if 'Unnamed: 0' in df_4: df_4 = df_4.drop(['Unnamed: 0'], axis=1)\n",
    "    \n",
    "if num_df_used_to_train == 2: df = pd.concat([df_1, df_2], axis=0)\n",
    "if num_df_used_to_train == 3: df = pd.concat([df_1, df_2, df_3], axis=0)\n",
    "if num_df_used_to_train == 4: df = pd.concat([df_1, df_2, df_3, df_4], axis=0)\n",
    "\n",
    "del df_1, df_2\n",
    "if num_df_used_to_train == 3: del df_3\n",
    "if num_df_used_to_train == 4: del df_3, df_4\n",
    "\n",
    "df = df.reset_index().drop('index', axis=1)\n",
    "\n",
    "print('Shape concat dfs: ')\n",
    "print(df.shape)\n",
    "df"
   ]
  },
  {
   "cell_type": "code",
   "execution_count": 300,
   "metadata": {},
   "outputs": [
    {
     "data": {
      "text/html": [
       "<div>\n",
       "<style scoped>\n",
       "    .dataframe tbody tr th:only-of-type {\n",
       "        vertical-align: middle;\n",
       "    }\n",
       "\n",
       "    .dataframe tbody tr th {\n",
       "        vertical-align: top;\n",
       "    }\n",
       "\n",
       "    .dataframe thead th {\n",
       "        text-align: right;\n",
       "    }\n",
       "</style>\n",
       "<table border=\"1\" class=\"dataframe\">\n",
       "  <thead>\n",
       "    <tr style=\"text-align: right;\">\n",
       "      <th></th>\n",
       "      <th>acc1</th>\n",
       "      <th>acc2</th>\n",
       "      <th>acc3</th>\n",
       "      <th>gyro1</th>\n",
       "      <th>gyro2</th>\n",
       "      <th>gyro3</th>\n",
       "    </tr>\n",
       "  </thead>\n",
       "  <tbody>\n",
       "    <tr>\n",
       "      <th>0</th>\n",
       "      <td>-0.000185</td>\n",
       "      <td>-0.000006</td>\n",
       "      <td>-0.001230</td>\n",
       "      <td>0.001092</td>\n",
       "      <td>-0.000120</td>\n",
       "      <td>0.000005</td>\n",
       "    </tr>\n",
       "    <tr>\n",
       "      <th>1</th>\n",
       "      <td>0.000679</td>\n",
       "      <td>-0.000392</td>\n",
       "      <td>-0.000402</td>\n",
       "      <td>0.000803</td>\n",
       "      <td>0.000307</td>\n",
       "      <td>0.000113</td>\n",
       "    </tr>\n",
       "  </tbody>\n",
       "</table>\n",
       "</div>"
      ],
      "text/plain": [
       "       acc1      acc2      acc3     gyro1     gyro2     gyro3\n",
       "0 -0.000185 -0.000006 -0.001230  0.001092 -0.000120  0.000005\n",
       "1  0.000679 -0.000392 -0.000402  0.000803  0.000307  0.000113"
      ]
     },
     "execution_count": 300,
     "metadata": {},
     "output_type": "execute_result"
    }
   ],
   "source": [
    "X_model = df.iloc[:,:-2]\n",
    "del df                      # delete variable to reduce memory\n",
    "X_model.head(2)"
   ]
  },
  {
   "cell_type": "code",
   "execution_count": 301,
   "metadata": {},
   "outputs": [
    {
     "data": {
      "text/html": [
       "<div>\n",
       "<style scoped>\n",
       "    .dataframe tbody tr th:only-of-type {\n",
       "        vertical-align: middle;\n",
       "    }\n",
       "\n",
       "    .dataframe tbody tr th {\n",
       "        vertical-align: top;\n",
       "    }\n",
       "\n",
       "    .dataframe thead th {\n",
       "        text-align: right;\n",
       "    }\n",
       "</style>\n",
       "<table border=\"1\" class=\"dataframe\">\n",
       "  <thead>\n",
       "    <tr style=\"text-align: right;\">\n",
       "      <th></th>\n",
       "      <th>acc1</th>\n",
       "      <th>acc2</th>\n",
       "      <th>acc3</th>\n",
       "      <th>gyro1</th>\n",
       "      <th>gyro2</th>\n",
       "      <th>gyro3</th>\n",
       "    </tr>\n",
       "  </thead>\n",
       "  <tbody>\n",
       "    <tr>\n",
       "      <th>0</th>\n",
       "      <td>0.169546</td>\n",
       "      <td>0.043729</td>\n",
       "      <td>0.130794</td>\n",
       "      <td>0.007285</td>\n",
       "      <td>0.010549</td>\n",
       "      <td>0.043122</td>\n",
       "    </tr>\n",
       "    <tr>\n",
       "      <th>1</th>\n",
       "      <td>0.170190</td>\n",
       "      <td>0.043363</td>\n",
       "      <td>0.131489</td>\n",
       "      <td>0.007112</td>\n",
       "      <td>0.010684</td>\n",
       "      <td>0.043204</td>\n",
       "    </tr>\n",
       "    <tr>\n",
       "      <th>2</th>\n",
       "      <td>0.169518</td>\n",
       "      <td>0.043592</td>\n",
       "      <td>0.131644</td>\n",
       "      <td>0.006715</td>\n",
       "      <td>0.010757</td>\n",
       "      <td>0.043209</td>\n",
       "    </tr>\n",
       "    <tr>\n",
       "      <th>3</th>\n",
       "      <td>0.169193</td>\n",
       "      <td>0.042888</td>\n",
       "      <td>0.132123</td>\n",
       "      <td>0.006583</td>\n",
       "      <td>0.010709</td>\n",
       "      <td>0.042928</td>\n",
       "    </tr>\n",
       "    <tr>\n",
       "      <th>4</th>\n",
       "      <td>0.169651</td>\n",
       "      <td>0.042289</td>\n",
       "      <td>0.132408</td>\n",
       "      <td>0.006629</td>\n",
       "      <td>0.010481</td>\n",
       "      <td>0.042896</td>\n",
       "    </tr>\n",
       "    <tr>\n",
       "      <th>...</th>\n",
       "      <td>...</td>\n",
       "      <td>...</td>\n",
       "      <td>...</td>\n",
       "      <td>...</td>\n",
       "      <td>...</td>\n",
       "      <td>...</td>\n",
       "    </tr>\n",
       "    <tr>\n",
       "      <th>1258314</th>\n",
       "      <td>0.162317</td>\n",
       "      <td>0.065444</td>\n",
       "      <td>0.131815</td>\n",
       "      <td>0.008981</td>\n",
       "      <td>0.010030</td>\n",
       "      <td>0.042344</td>\n",
       "    </tr>\n",
       "    <tr>\n",
       "      <th>1258315</th>\n",
       "      <td>0.162860</td>\n",
       "      <td>0.068756</td>\n",
       "      <td>0.129704</td>\n",
       "      <td>0.008866</td>\n",
       "      <td>0.009543</td>\n",
       "      <td>0.041339</td>\n",
       "    </tr>\n",
       "    <tr>\n",
       "      <th>1258316</th>\n",
       "      <td>0.163444</td>\n",
       "      <td>0.066603</td>\n",
       "      <td>0.126848</td>\n",
       "      <td>0.009346</td>\n",
       "      <td>0.009169</td>\n",
       "      <td>0.040534</td>\n",
       "    </tr>\n",
       "    <tr>\n",
       "      <th>1258317</th>\n",
       "      <td>0.158373</td>\n",
       "      <td>0.067465</td>\n",
       "      <td>0.129854</td>\n",
       "      <td>0.009307</td>\n",
       "      <td>0.009524</td>\n",
       "      <td>0.041176</td>\n",
       "    </tr>\n",
       "    <tr>\n",
       "      <th>1258318</th>\n",
       "      <td>0.156858</td>\n",
       "      <td>0.066995</td>\n",
       "      <td>0.128470</td>\n",
       "      <td>0.008956</td>\n",
       "      <td>0.009526</td>\n",
       "      <td>0.041419</td>\n",
       "    </tr>\n",
       "  </tbody>\n",
       "</table>\n",
       "<p>1258319 rows × 6 columns</p>\n",
       "</div>"
      ],
      "text/plain": [
       "             acc1      acc2      acc3     gyro1     gyro2     gyro3\n",
       "0        0.169546  0.043729  0.130794  0.007285  0.010549  0.043122\n",
       "1        0.170190  0.043363  0.131489  0.007112  0.010684  0.043204\n",
       "2        0.169518  0.043592  0.131644  0.006715  0.010757  0.043209\n",
       "3        0.169193  0.042888  0.132123  0.006583  0.010709  0.042928\n",
       "4        0.169651  0.042289  0.132408  0.006629  0.010481  0.042896\n",
       "...           ...       ...       ...       ...       ...       ...\n",
       "1258314  0.162317  0.065444  0.131815  0.008981  0.010030  0.042344\n",
       "1258315  0.162860  0.068756  0.129704  0.008866  0.009543  0.041339\n",
       "1258316  0.163444  0.066603  0.126848  0.009346  0.009169  0.040534\n",
       "1258317  0.158373  0.067465  0.129854  0.009307  0.009524  0.041176\n",
       "1258318  0.156858  0.066995  0.128470  0.008956  0.009526  0.041419\n",
       "\n",
       "[1258319 rows x 6 columns]"
      ]
     },
     "execution_count": 301,
     "metadata": {},
     "output_type": "execute_result"
    }
   ],
   "source": [
    "## STANDARIZE DATA\n",
    "scaler_model = StandardScaler()\n",
    "scaler_model.fit(X_model)                       # fit with dataset that was used to train the model\n",
    "X_norm_model = scaler_model.transform(X_model)  # transform the new datset\n",
    "X_norm_model = pd.DataFrame(X_norm_model, columns=X_model.columns)\n",
    "X_norm_model"
   ]
  },
  {
   "cell_type": "code",
   "execution_count": 302,
   "metadata": {},
   "outputs": [],
   "source": [
    "del X_model                         # delete variable to reduce memory"
   ]
  },
  {
   "cell_type": "markdown",
   "metadata": {},
   "source": [
    "---\n",
    "## **<font size=\"5\">3. Load Test Dataset:</font>**\n",
    "---"
   ]
  },
  {
   "cell_type": "code",
   "execution_count": 303,
   "metadata": {},
   "outputs": [
    {
     "name": "stdout",
     "output_type": "stream",
     "text": [
      "Reading dataset 2023_08_30 ...\n",
      "Reading done!\n",
      "Shapes 2023_08_30: \n",
      "(73886, 6)\n"
     ]
    }
   ],
   "source": [
    "print('Reading dataset ' + data_dataset + ' ...')\n",
    "# Only for unlabeled datasets for navigation solution (GOOD CODE above):\n",
    "dataset_path = 'G:\\\\Shared drives\\\\NIST-Pedestrian Activity Classification\\\\motion classification\\\\4_6sig_SVM_Paper_Results\\\\datasets\\\\'+data_dataset+'\\\\'\n",
    "df = pd.read_csv(dataset_path + '6sig_'+exp+'_no_Bias.csv')\n",
    "\n",
    "print('Reading done!')\n",
    "\n",
    "#df = df.drop(['Unnamed: 0'], axis=1)\n",
    "\n",
    "print('Shapes '+data_dataset+': ')\n",
    "print(df.shape)"
   ]
  },
  {
   "cell_type": "code",
   "execution_count": 304,
   "metadata": {},
   "outputs": [
    {
     "name": "stdout",
     "output_type": "stream",
     "text": [
      "Test dataset:\n"
     ]
    },
    {
     "data": {
      "text/html": [
       "<div>\n",
       "<style scoped>\n",
       "    .dataframe tbody tr th:only-of-type {\n",
       "        vertical-align: middle;\n",
       "    }\n",
       "\n",
       "    .dataframe tbody tr th {\n",
       "        vertical-align: top;\n",
       "    }\n",
       "\n",
       "    .dataframe thead th {\n",
       "        text-align: right;\n",
       "    }\n",
       "</style>\n",
       "<table border=\"1\" class=\"dataframe\">\n",
       "  <thead>\n",
       "    <tr style=\"text-align: right;\">\n",
       "      <th></th>\n",
       "      <th>acc1</th>\n",
       "      <th>acc2</th>\n",
       "      <th>acc3</th>\n",
       "      <th>gyro1</th>\n",
       "      <th>gyro2</th>\n",
       "      <th>gyro3</th>\n",
       "    </tr>\n",
       "  </thead>\n",
       "  <tbody>\n",
       "    <tr>\n",
       "      <th>0</th>\n",
       "      <td>-0.001303</td>\n",
       "      <td>0.001467</td>\n",
       "      <td>-0.000953</td>\n",
       "      <td>0.004962</td>\n",
       "      <td>-0.003941</td>\n",
       "      <td>-0.001537</td>\n",
       "    </tr>\n",
       "    <tr>\n",
       "      <th>1</th>\n",
       "      <td>-0.000875</td>\n",
       "      <td>-0.001477</td>\n",
       "      <td>-0.002338</td>\n",
       "      <td>0.005792</td>\n",
       "      <td>-0.003248</td>\n",
       "      <td>-0.001219</td>\n",
       "    </tr>\n",
       "  </tbody>\n",
       "</table>\n",
       "</div>"
      ],
      "text/plain": [
       "       acc1      acc2      acc3     gyro1     gyro2     gyro3\n",
       "0 -0.001303  0.001467 -0.000953  0.004962 -0.003941 -0.001537\n",
       "1 -0.000875 -0.001477 -0.002338  0.005792 -0.003248 -0.001219"
      ]
     },
     "execution_count": 304,
     "metadata": {},
     "output_type": "execute_result"
    }
   ],
   "source": [
    "print('Test dataset:')\n",
    "df.head(2)"
   ]
  },
  {
   "cell_type": "code",
   "execution_count": 305,
   "metadata": {},
   "outputs": [],
   "source": [
    "X = df"
   ]
  },
  {
   "cell_type": "markdown",
   "metadata": {},
   "source": [
    "---\n",
    "## **<font size=\"5\">4. Normalize data:</font>**\n",
    "---"
   ]
  },
  {
   "cell_type": "code",
   "execution_count": 306,
   "metadata": {},
   "outputs": [
    {
     "data": {
      "text/html": [
       "<div>\n",
       "<style scoped>\n",
       "    .dataframe tbody tr th:only-of-type {\n",
       "        vertical-align: middle;\n",
       "    }\n",
       "\n",
       "    .dataframe tbody tr th {\n",
       "        vertical-align: top;\n",
       "    }\n",
       "\n",
       "    .dataframe thead th {\n",
       "        text-align: right;\n",
       "    }\n",
       "</style>\n",
       "<table border=\"1\" class=\"dataframe\">\n",
       "  <thead>\n",
       "    <tr style=\"text-align: right;\">\n",
       "      <th></th>\n",
       "      <th>acc1</th>\n",
       "      <th>acc2</th>\n",
       "      <th>acc3</th>\n",
       "      <th>gyro1</th>\n",
       "      <th>gyro2</th>\n",
       "      <th>gyro3</th>\n",
       "    </tr>\n",
       "  </thead>\n",
       "  <tbody>\n",
       "    <tr>\n",
       "      <th>0</th>\n",
       "      <td>0.168714</td>\n",
       "      <td>0.045128</td>\n",
       "      <td>0.131027</td>\n",
       "      <td>0.009598</td>\n",
       "      <td>0.009334</td>\n",
       "      <td>0.041955</td>\n",
       "    </tr>\n",
       "    <tr>\n",
       "      <th>1</th>\n",
       "      <td>0.169032</td>\n",
       "      <td>0.042333</td>\n",
       "      <td>0.129863</td>\n",
       "      <td>0.010093</td>\n",
       "      <td>0.009554</td>\n",
       "      <td>0.042196</td>\n",
       "    </tr>\n",
       "  </tbody>\n",
       "</table>\n",
       "</div>"
      ],
      "text/plain": [
       "       acc1      acc2      acc3     gyro1     gyro2     gyro3\n",
       "0  0.168714  0.045128  0.131027  0.009598  0.009334  0.041955\n",
       "1  0.169032  0.042333  0.129863  0.010093  0.009554  0.042196"
      ]
     },
     "execution_count": 306,
     "metadata": {},
     "output_type": "execute_result"
    }
   ],
   "source": [
    "## STANDARIZE DATA\n",
    "X_norm = scaler_model.transform(X)  # transform the new datset\n",
    "X_norm = pd.DataFrame(X_norm, columns=X_norm_model.columns)\n",
    "X_norm.head(2)"
   ]
  },
  {
   "cell_type": "markdown",
   "metadata": {},
   "source": [
    "---\n",
    "## **<font size=\"5\">6. Prediction Model</font>**\n",
    "---"
   ]
  },
  {
   "cell_type": "code",
   "execution_count": 307,
   "metadata": {},
   "outputs": [],
   "source": [
    "X = X_norm"
   ]
  },
  {
   "cell_type": "code",
   "execution_count": 308,
   "metadata": {},
   "outputs": [
    {
     "name": "stdout",
     "output_type": "stream",
     "text": [
      "Predicting...\n",
      "Prediction done!\n"
     ]
    }
   ],
   "source": [
    "if prediction == True:\n",
    "    print('Predicting...')\n",
    "    Y_predicted = support.predict(X)\n",
    "    print('Prediction done!')\n",
    "    Y_predicted_df = pd.DataFrame(Y_predicted, columns = ['predicted_l'])\n",
    "    Y_predicted_df.to_csv(folder_label_predicted + l_predicted_name)\n",
    "    Y_predicted = pd.read_csv(folder_label_predicted + l_predicted_name)\n",
    "else:\n",
    "    Y_predicted = pd.read_csv(folder_label_predicted + l_predicted_name)\n",
    "    print('L Predicted Loaded!')"
   ]
  }
 ],
 "metadata": {
  "kernelspec": {
   "display_name": "Python 3.10.5 64-bit",
   "language": "python",
   "name": "python3"
  },
  "language_info": {
   "codemirror_mode": {
    "name": "ipython",
    "version": 3
   },
   "file_extension": ".py",
   "mimetype": "text/x-python",
   "name": "python",
   "nbconvert_exporter": "python",
   "pygments_lexer": "ipython3",
   "version": "3.10.5"
  },
  "orig_nbformat": 4,
  "vscode": {
   "interpreter": {
    "hash": "9103196f9419d8fa895c36bf5b3852f32d27a01beb0b11d5bcec3c7795f6c22a"
   }
  }
 },
 "nbformat": 4,
 "nbformat_minor": 2
}

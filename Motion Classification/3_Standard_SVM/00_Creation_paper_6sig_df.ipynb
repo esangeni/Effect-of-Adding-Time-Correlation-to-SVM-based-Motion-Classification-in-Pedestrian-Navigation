{
 "cells": [
  {
   "cell_type": "markdown",
   "metadata": {},
   "source": [
    "---\n",
    "## **High Dimensional Test Dataset Creation - Paper Test Dataset Creation**\n",
    "---"
   ]
  },
  {
   "cell_type": "markdown",
   "metadata": {},
   "source": [
    "<font size=\"2\">Eudald Sangenis  \n",
    "Creation: 7/11/2022  \n",
    "Last Update: 7/11/2022  \n",
    "\n",
    "The objective of this file is to create the High Dimensional Dataset from the Test Dataset used in the IEEE 2022 Sensors Conference Paper.\n",
    "\n",
    "Parameters High Dimensional Dataset:  \n",
    "- 6 signals from the IMU  \n",
    "- variable window size  \n",
    "\n",
    "Once this dataset is created the next step is to predict the labels and verify the navigation solution.</font>"
   ]
  },
  {
   "cell_type": "markdown",
   "metadata": {},
   "source": [
    "---\n",
    "## **<font size=\"5\">1. Libraries</font>**\n",
    "---"
   ]
  },
  {
   "cell_type": "code",
   "execution_count": 10,
   "metadata": {},
   "outputs": [],
   "source": [
    "import math\n",
    "import numpy as np\n",
    "import pandas as pd\n",
    "from tqdm import tqdm\n",
    "import seaborn as sns\n",
    "import scipy.io as spio\n",
    "import matplotlib.pyplot as plt"
   ]
  },
  {
   "cell_type": "markdown",
   "metadata": {},
   "source": [
    "---\n",
    "## **<font size=\"5\">2. Functions:</font>**\n",
    "---"
   ]
  },
  {
   "cell_type": "code",
   "execution_count": 11,
   "metadata": {},
   "outputs": [],
   "source": [
    "# convert deg to radians\n",
    "def deg_to_rad(dr):\n",
    "    return (dr*math.pi)/180\n",
    "\n",
    "# convert the .mat datsets to pandas datframe\n",
    "def mat2pandas(file_name):\n",
    "    mat = spio.loadmat(file_name +'.mat')\n",
    "    mdata = mat['u'];  # variable in mat file\n",
    "    mdata = np.transpose(mdata)\n",
    "    # creating df object with columns specified    \n",
    "    df = pd.DataFrame(mdata, columns = ['acc1','acc2','acc3',\n",
    "                                        'gyro1','gyro2','gyro3',\n",
    "                                        'na','timestamp','na2',\n",
    "                                        'airPressure','samplePeriodS','magnetometer_x',\n",
    "                                        'magnetometer_y','magnetometer_z','temperatureC',])\n",
    "    df = df.drop(['na', 'na2','airPressure','samplePeriodS',\n",
    "                  'magnetometer_x','magnetometer_y','magnetometer_z','temperatureC'], axis=1)\n",
    "    # reorganize dataset to timestamp be the first column\n",
    "    df = df[['timestamp','acc1','acc2','acc3','gyro1','gyro2','gyro3']]\n",
    "    # convert from deg/min -> rad/min\n",
    "    df['gyro1'] = deg_to_rad(df['gyro1'])\n",
    "    df['gyro2'] = deg_to_rad(df['gyro2'])\n",
    "    df['gyro3'] = deg_to_rad(df['gyro3'])\n",
    "    return df"
   ]
  },
  {
   "cell_type": "markdown",
   "metadata": {},
   "source": [
    "---\n",
    "## **<font size=\"5\">3. Data Handling</font>**\n",
    "---"
   ]
  },
  {
   "cell_type": "code",
   "execution_count": 12,
   "metadata": {},
   "outputs": [],
   "source": [
    "type_dataset = 'exp1200'\n",
    "df_exp = type_dataset+'_VN'   # 2022_09_02: exp100_VN,exp200_VN,exp300_VN,exp400_VN,exp500_VN,exp600_VN\n",
    "data_dataset = '2023_08_30'\n",
    "num_signals = 6\n",
    "\n",
    "# 6 signals\n",
    "dataset_path_unlab = 'G:\\\\Shared drives\\\\NIST-Pedestrian Activity Classification\\\\motion classification\\\\1_unlabeled_datasets\\\\'+data_dataset+'\\\\'\n",
    "# save dataset path\n",
    "dataset_save = 'G:\\\\Shared drives\\\\NIST-Pedestrian Activity Classification\\\\motion classification\\\\4_6sig_SVM_Paper_Results\\\\datasets\\\\'+data_dataset+'\\\\'"
   ]
  },
  {
   "cell_type": "code",
   "execution_count": 13,
   "metadata": {},
   "outputs": [
    {
     "data": {
      "text/html": [
       "<div>\n",
       "<style scoped>\n",
       "    .dataframe tbody tr th:only-of-type {\n",
       "        vertical-align: middle;\n",
       "    }\n",
       "\n",
       "    .dataframe tbody tr th {\n",
       "        vertical-align: top;\n",
       "    }\n",
       "\n",
       "    .dataframe thead th {\n",
       "        text-align: right;\n",
       "    }\n",
       "</style>\n",
       "<table border=\"1\" class=\"dataframe\">\n",
       "  <thead>\n",
       "    <tr style=\"text-align: right;\">\n",
       "      <th></th>\n",
       "      <th>timestamp</th>\n",
       "      <th>acc1</th>\n",
       "      <th>acc2</th>\n",
       "      <th>acc3</th>\n",
       "      <th>gyro1</th>\n",
       "      <th>gyro2</th>\n",
       "      <th>gyro3</th>\n",
       "    </tr>\n",
       "  </thead>\n",
       "  <tbody>\n",
       "    <tr>\n",
       "      <th>0</th>\n",
       "      <td>0.00000</td>\n",
       "      <td>0.000896</td>\n",
       "      <td>0.036741</td>\n",
       "      <td>-0.981648</td>\n",
       "      <td>0.008053</td>\n",
       "      <td>-0.008695</td>\n",
       "      <td>-0.019573</td>\n",
       "    </tr>\n",
       "    <tr>\n",
       "      <th>1</th>\n",
       "      <td>0.00125</td>\n",
       "      <td>-0.000570</td>\n",
       "      <td>0.037801</td>\n",
       "      <td>-0.977746</td>\n",
       "      <td>0.010301</td>\n",
       "      <td>-0.007298</td>\n",
       "      <td>-0.021228</td>\n",
       "    </tr>\n",
       "  </tbody>\n",
       "</table>\n",
       "</div>"
      ],
      "text/plain": [
       "   timestamp      acc1      acc2      acc3     gyro1     gyro2     gyro3\n",
       "0    0.00000  0.000896  0.036741 -0.981648  0.008053 -0.008695 -0.019573\n",
       "1    0.00125 -0.000570  0.037801 -0.977746  0.010301 -0.007298 -0.021228"
      ]
     },
     "execution_count": 13,
     "metadata": {},
     "output_type": "execute_result"
    }
   ],
   "source": [
    "df = (dataset_path_unlab+df_exp)\n",
    "\n",
    "X = mat2pandas(df)\n",
    "X.head(2)"
   ]
  },
  {
   "cell_type": "code",
   "execution_count": 14,
   "metadata": {},
   "outputs": [
    {
     "name": "stdout",
     "output_type": "stream",
     "text": [
      "(69558, 7)\n"
     ]
    }
   ],
   "source": [
    "print(X.shape)"
   ]
  },
  {
   "cell_type": "code",
   "execution_count": 15,
   "metadata": {},
   "outputs": [
    {
     "data": {
      "text/html": [
       "<div>\n",
       "<style scoped>\n",
       "    .dataframe tbody tr th:only-of-type {\n",
       "        vertical-align: middle;\n",
       "    }\n",
       "\n",
       "    .dataframe tbody tr th {\n",
       "        vertical-align: top;\n",
       "    }\n",
       "\n",
       "    .dataframe thead th {\n",
       "        text-align: right;\n",
       "    }\n",
       "</style>\n",
       "<table border=\"1\" class=\"dataframe\">\n",
       "  <thead>\n",
       "    <tr style=\"text-align: right;\">\n",
       "      <th></th>\n",
       "      <th>acc1</th>\n",
       "      <th>acc2</th>\n",
       "      <th>acc3</th>\n",
       "      <th>gyro1</th>\n",
       "      <th>gyro2</th>\n",
       "      <th>gyro3</th>\n",
       "    </tr>\n",
       "  </thead>\n",
       "  <tbody>\n",
       "    <tr>\n",
       "      <th>0</th>\n",
       "      <td>0.000896</td>\n",
       "      <td>0.036741</td>\n",
       "      <td>-0.981648</td>\n",
       "      <td>0.008053</td>\n",
       "      <td>-0.008695</td>\n",
       "      <td>-0.019573</td>\n",
       "    </tr>\n",
       "    <tr>\n",
       "      <th>1</th>\n",
       "      <td>-0.000570</td>\n",
       "      <td>0.037801</td>\n",
       "      <td>-0.977746</td>\n",
       "      <td>0.010301</td>\n",
       "      <td>-0.007298</td>\n",
       "      <td>-0.021228</td>\n",
       "    </tr>\n",
       "  </tbody>\n",
       "</table>\n",
       "</div>"
      ],
      "text/plain": [
       "       acc1      acc2      acc3     gyro1     gyro2     gyro3\n",
       "0  0.000896  0.036741 -0.981648  0.008053 -0.008695 -0.019573\n",
       "1 -0.000570  0.037801 -0.977746  0.010301 -0.007298 -0.021228"
      ]
     },
     "execution_count": 15,
     "metadata": {},
     "output_type": "execute_result"
    }
   ],
   "source": [
    "c = ['timestamp']\n",
    "X = X.drop(columns=c)\n",
    "X.head(2)"
   ]
  },
  {
   "cell_type": "code",
   "execution_count": 16,
   "metadata": {},
   "outputs": [
    {
     "data": {
      "image/png": "[encoded data removed]",
      "text/plain": [
       "<Figure size 432x288 with 1 Axes>"
      ]
     },
     "metadata": {
      "needs_background": "light"
     },
     "output_type": "display_data"
    },
    {
     "data": {
      "image/png": "[encoded data removed]",
      "text/plain": [
       "<Figure size 432x288 with 1 Axes>"
      ]
     },
     "metadata": {
      "needs_background": "light"
     },
     "output_type": "display_data"
    }
   ],
   "source": [
    "X.plot(y=['acc1','acc2','acc3'], use_index=True)\n",
    "X.plot(y=['gyro1','gyro2','gyro3'], use_index=True)\n",
    "plt.show()"
   ]
  },
  {
   "cell_type": "markdown",
   "metadata": {},
   "source": [
    "Check if there are nan values:"
   ]
  },
  {
   "cell_type": "code",
   "execution_count": 17,
   "metadata": {},
   "outputs": [
    {
     "data": {
      "text/plain": [
       "False"
      ]
     },
     "execution_count": 17,
     "metadata": {},
     "output_type": "execute_result"
    }
   ],
   "source": [
    "X.isnull().values.any()"
   ]
  },
  {
   "cell_type": "code",
   "execution_count": 18,
   "metadata": {},
   "outputs": [],
   "source": [
    "X.to_csv(dataset_save+str(num_signals)+'sig_'+type_dataset+'.csv', index=None, mode='a')"
   ]
  }
 ],
 "metadata": {
  "kernelspec": {
   "display_name": "Python 3.10.5 64-bit",
   "language": "python",
   "name": "python3"
  },
  "language_info": {
   "codemirror_mode": {
    "name": "ipython",
    "version": 3
   },
   "file_extension": ".py",
   "mimetype": "text/x-python",
   "name": "python",
   "nbconvert_exporter": "python",
   "pygments_lexer": "ipython3",
   "version": "3.10.5"
  },
  "orig_nbformat": 4,
  "vscode": {
   "interpreter": {
    "hash": "9103196f9419d8fa895c36bf5b3852f32d27a01beb0b11d5bcec3c7795f6c22a"
   }
  }
 },
 "nbformat": 4,
 "nbformat_minor": 2
}

{
 "cells": [
  {
   "cell_type": "markdown",
   "metadata": {},
   "source": [
    "---\n",
    "## **Creation Standard Dataset For Train/Test the Standard SVM Classifier**\n",
    "---"
   ]
  },
  {
   "cell_type": "markdown",
   "metadata": {},
   "source": [
    "<font size=\"2\">Eudald Sangenis  \n",
    "Creation: 7/11/2022  \n",
    "Last Update: 11/14/2024  \n",
    "\n",
    "The objective of this file is to create the dataset based on 6 signals (3xAcc + 3xGyr) data and the label for training and testing the standard SVM Classifier.\n",
    "\n",
    "Parameters of the Resulting Dataset:  \n",
    "- 6 signals from the IMU \n",
    "- Label\n",
    "\n",
    "Once this dataset is created the next step is to remove the bias and then train and test the standard SVM classifier.</font>"
   ]
  },
  {
   "cell_type": "code",
   "execution_count": 250,
   "metadata": {},
   "outputs": [],
   "source": [
    "# 2022_03_17 - Subject I - Chico\n",
    "# 2022_07_27 - Subject II - Eudald\n",
    "# 2022_08_01 - Subject III - Austin\n",
    "data_dataset = '2022_03_17'"
   ]
  },
  {
   "cell_type": "markdown",
   "metadata": {},
   "source": [
    "---\n",
    "## **<font size=\"5\">1. Libraries</font>**\n",
    "---"
   ]
  },
  {
   "cell_type": "code",
   "execution_count": 251,
   "metadata": {},
   "outputs": [],
   "source": [
    "import os\n",
    "import sys\n",
    "import pandas as pd  \n",
    "import matplotlib.pyplot as plt\n",
    "\n",
    "# Get the current working directory\n",
    "current_directory = os.getcwd()\n",
    "\n",
    "# Get the parent directory (where the module is located)\n",
    "parent_directory = os.path.dirname(current_directory)\n",
    "\n",
    "# Append the parent directory to sys.path\n",
    "sys.path.append(parent_directory)\n",
    "\n",
    "# Now you can import the module\n",
    "import signal_processing_functions as sp"
   ]
  },
  {
   "cell_type": "markdown",
   "metadata": {},
   "source": [
    "---\n",
    "## **<font size=\"5\">3. Empty variables:</font>**\n",
    "---"
   ]
  },
  {
   "cell_type": "code",
   "execution_count": 252,
   "metadata": {},
   "outputs": [],
   "source": [
    "x_100_df = pd.DataFrame(); x_200_df = pd.DataFrame(); x_300_df = pd.DataFrame()\n",
    "x_400_df = pd.DataFrame(); x_500_df = pd.DataFrame(); x_600_df = pd.DataFrame()\n",
    "x_700_df = pd.DataFrame(); x_800_df = pd.DataFrame(); x_900_df = pd.DataFrame()\n",
    "x_1000_df = pd.DataFrame(); x_1100_df = pd.DataFrame(); x_1200_df = pd.DataFrame()\n",
    "x_1300_df = pd.DataFrame(); x_1400_df = pd.DataFrame(); x_1500_df = pd.DataFrame()\n",
    "x_1600_df = pd.DataFrame(); x_1700_df = pd.DataFrame(); x_1800_df = pd.DataFrame()\n",
    "\n",
    "X_100_df = pd.DataFrame(); X_200_df = pd.DataFrame(); X_300_df = pd.DataFrame()\n",
    "X_400_df = pd.DataFrame(); X_500_df = pd.DataFrame(); X_600_df = pd.DataFrame()\n",
    "X_700_df = pd.DataFrame(); X_800_df = pd.DataFrame(); X_900_df = pd.DataFrame()\n",
    "X_1000_df = pd.DataFrame(); X_1100_df = pd.DataFrame(); X_1200_df = pd.DataFrame()\n",
    "X_1300_df = pd.DataFrame(); X_1400_df = pd.DataFrame(); X_1500_df = pd.DataFrame()\n",
    "X_1600_df = pd.DataFrame(); X_1700_df = pd.DataFrame(); X_1800_df = pd.DataFrame()"
   ]
  },
  {
   "cell_type": "markdown",
   "metadata": {},
   "source": [
    "---\n",
    "## **<font size=\"5\">4. Data Handling</font>**\n",
    "---"
   ]
  },
  {
   "cell_type": "code",
   "execution_count": 253,
   "metadata": {},
   "outputs": [],
   "source": [
    "# 2 signals\n",
    "dataset_path_lab = parent_directory+'\\\\2_labeled_datasets\\\\'+data_dataset+'\\\\'\n",
    "# 6 signals\n",
    "dataset_path_unlab = parent_directory+'\\\\1_unlabeled_datasets\\\\'+data_dataset+'\\\\'\n",
    "# save dataset path\n",
    "dataset_save = current_directory+'\\\\datasets\\\\'+data_dataset+'\\\\'\n",
    "os.makedirs(dataset_save, exist_ok=True)"
   ]
  },
  {
   "cell_type": "code",
   "execution_count": 254,
   "metadata": {},
   "outputs": [],
   "source": [
    "# Labeled datasets\n",
    "dataset_filenames = ['x_100_df.csv',  'x_200_df.csv',  'x_300_df.csv',  'x_400_df.csv',  'x_500_df.csv',  'x_600_df.csv',\n",
    "                     'x_700_df.csv',  'x_800_df.csv',  'x_900_df.csv',  'x_1000_df.csv', 'x_1100_df.csv', 'x_1200_df.csv',\n",
    "                     'x_1300_df.csv', 'x_1400_df.csv', 'x_1500_df.csv', 'x_1600_df.csv', 'x_1700_df.csv', 'x_1800_df.csv']\n",
    "datframes_names = [os.path.join(dataset_path_lab, filename) for filename in dataset_filenames]\n",
    "x_df_lst = [pd.read_csv(name) for name in datframes_names]\n",
    "\n",
    "# Unlabeled datasets\n",
    "experiment_names = [('exp100_VN', 'walk 60 steps/s'), ('exp200_VN', 'walk 60 steps/s'),\n",
    "                    ('exp300_VN', 'walk 90 steps/s'), ('exp400_VN', 'walk 90 steps/s'),\n",
    "                    ('exp500_VN', 'jog 120 steps/s'), ('exp600_VN', 'jog 120 steps/s'),\n",
    "                    ('exp700_VN', 'run 150 steps/s'), ('exp800_VN', 'run 150 steps/s'),\n",
    "                    ('exp900_VN', 'sprint 180 steps/s'), ('exp1000_VN', 'sprint 180 steps/s'),\n",
    "                    ('exp1100_VN', 'walk backward 60 steps/s'), ('exp1200_VN', 'walk backward 60 steps/s'),\n",
    "                    ('exp1300_VN', 'jog backward 90 steps/s'),  ('exp1400_VN', 'jog backward 90 steps/s'),\n",
    "                    ('exp1500_VN', 'side step right 90 steps/s'), ('exp1600_VN', 'side step right 90 steps/s'),\n",
    "                    ('exp1700_VN', 'side step right 90 steps/s'), ('exp1800_VN', 'side step right 90 steps/s')]\n",
    "\n",
    "data_folder = os.path.join(parent_directory, '1_unlabeled_datasets', data_dataset)\n",
    "X_df_lst = [sp.mat2pandas(data_folder + os.sep, exp_name) for exp_name, _ in experiment_names]"
   ]
  },
  {
   "cell_type": "code",
   "execution_count": 255,
   "metadata": {},
   "outputs": [
    {
     "name": "stdout",
     "output_type": "stream",
     "text": [
      "(57816, 4) (57865, 7)\n"
     ]
    }
   ],
   "source": [
    "for i in range(0,len(x_df_lst)):\n",
    "    x = [100,200,300,400,500,600,700,800,900,1000,1100,1200,1300,1400,1500,1600,1700,1800]\n",
    "    exec(f'x_{x[i]}_df = x_df_lst[i]')\n",
    "\n",
    "for i in range(0,len(X_df_lst)):\n",
    "    x = [100,200,300,400,500,600,700,800,900,1000,1100,1200,1300,1400,1500,1600,1700,1800]\n",
    "    exec(f'X_{x[i]}_df = X_df_lst[i]')\n",
    "\n",
    "print(x_100_df.shape, X_100_df.shape)"
   ]
  },
  {
   "cell_type": "code",
   "execution_count": 256,
   "metadata": {},
   "outputs": [],
   "source": [
    "c = ['timestamp','index']\n",
    "X_100_df = X_100_df.drop(X_100_df.index[:49]).reset_index().drop(columns=c);    X_200_df = X_200_df.drop(X_200_df.index[:49]).reset_index().drop(columns=c)\n",
    "X_300_df = X_300_df.drop(X_300_df.index[:49]).reset_index().drop(columns=c);    X_400_df = X_400_df.drop(X_400_df.index[:49]).reset_index().drop(columns=c)\n",
    "X_500_df = X_500_df.drop(X_500_df.index[:49]).reset_index().drop(columns=c);    X_600_df = X_600_df.drop(X_600_df.index[:49]).reset_index().drop(columns=c)\n",
    "X_700_df = X_700_df.drop(X_700_df.index[:49]).reset_index().drop(columns=c);    X_800_df = X_800_df.drop(X_800_df.index[:49]).reset_index().drop(columns=c)\n",
    "X_900_df = X_900_df.drop(X_900_df.index[:49]).reset_index().drop(columns=c);    X_1000_df = X_1000_df.drop(X_1000_df.index[:49]).reset_index().drop(columns=c)\n",
    "X_1100_df = X_1100_df.drop(X_1100_df.index[:49]).reset_index().drop(columns=c); X_1200_df = X_1200_df.drop(X_1200_df.index[:49]).reset_index().drop(columns=c)\n",
    "X_1300_df = X_1300_df.drop(X_1300_df.index[:49]).reset_index().drop(columns=c); X_1400_df = X_1400_df.drop(X_1400_df.index[:49]).reset_index().drop(columns=c)\n",
    "X_1500_df = X_1500_df.drop(X_1500_df.index[:49]).reset_index().drop(columns=c); X_1600_df = X_1600_df.drop(X_1600_df.index[:49]).reset_index().drop(columns=c)\n",
    "X_1700_df = X_1700_df.drop(X_1700_df.index[:49]).reset_index().drop(columns=c); X_1800_df = X_1800_df.drop(X_1800_df.index[:49]).reset_index().drop(columns=c)\n",
    "\n",
    "X_100_df['label'] = x_100_df['label'];   X_200_df['label'] = x_200_df['label']\n",
    "X_300_df['label'] = x_300_df['label'];   X_400_df['label'] = x_400_df['label']\n",
    "X_500_df['label'] = x_500_df['label'];   X_600_df['label'] = x_600_df['label']\n",
    "X_700_df['label'] = x_700_df['label'];   X_800_df['label'] = x_800_df['label']\n",
    "X_900_df['label'] = x_900_df['label'];   X_1000_df['label'] = x_1000_df['label']\n",
    "X_1100_df['label'] = x_1100_df['label']; X_1200_df['label'] = x_1200_df['label']\n",
    "X_1300_df['label'] = x_1300_df['label']; X_1400_df['label'] = x_1400_df['label']\n",
    "X_1500_df['label'] = x_1500_df['label']; X_1600_df['label'] = x_1600_df['label']\n",
    "X_1700_df['label'] = x_1700_df['label']; X_1800_df['label'] = x_1800_df['label']\n",
    "\n",
    "del x_100_df,x_200_df,x_300_df,x_400_df,x_500_df,x_600_df,x_700_df,x_800_df,x_900_df,x_1000_df,x_1100_df,x_1200_df,x_1300_df,x_1400_df,x_1500_df,x_1600_df,x_1700_df,x_1800_df"
   ]
  },
  {
   "cell_type": "code",
   "execution_count": 257,
   "metadata": {},
   "outputs": [
    {
     "data": {
      "text/html": [
       "<div>\n",
       "<style scoped>\n",
       "    .dataframe tbody tr th:only-of-type {\n",
       "        vertical-align: middle;\n",
       "    }\n",
       "\n",
       "    .dataframe tbody tr th {\n",
       "        vertical-align: top;\n",
       "    }\n",
       "\n",
       "    .dataframe thead th {\n",
       "        text-align: right;\n",
       "    }\n",
       "</style>\n",
       "<table border=\"1\" class=\"dataframe\">\n",
       "  <thead>\n",
       "    <tr style=\"text-align: right;\">\n",
       "      <th></th>\n",
       "      <th>acc1</th>\n",
       "      <th>acc2</th>\n",
       "      <th>acc3</th>\n",
       "      <th>gyro1</th>\n",
       "      <th>gyro2</th>\n",
       "      <th>gyro3</th>\n",
       "      <th>label</th>\n",
       "    </tr>\n",
       "  </thead>\n",
       "  <tbody>\n",
       "    <tr>\n",
       "      <th>0</th>\n",
       "      <td>0.049480</td>\n",
       "      <td>0.020245</td>\n",
       "      <td>-0.966540</td>\n",
       "      <td>0.008045</td>\n",
       "      <td>0.002663</td>\n",
       "      <td>0.020730</td>\n",
       "      <td>ZUPT</td>\n",
       "    </tr>\n",
       "    <tr>\n",
       "      <th>1</th>\n",
       "      <td>0.050344</td>\n",
       "      <td>0.019859</td>\n",
       "      <td>-0.965713</td>\n",
       "      <td>0.007756</td>\n",
       "      <td>0.003090</td>\n",
       "      <td>0.020838</td>\n",
       "      <td>ZUPT</td>\n",
       "    </tr>\n",
       "    <tr>\n",
       "      <th>2</th>\n",
       "      <td>0.049442</td>\n",
       "      <td>0.020100</td>\n",
       "      <td>-0.965527</td>\n",
       "      <td>0.007091</td>\n",
       "      <td>0.003318</td>\n",
       "      <td>0.020846</td>\n",
       "      <td>ZUPT</td>\n",
       "    </tr>\n",
       "    <tr>\n",
       "      <th>3</th>\n",
       "      <td>0.049006</td>\n",
       "      <td>0.019358</td>\n",
       "      <td>-0.964957</td>\n",
       "      <td>0.006870</td>\n",
       "      <td>0.003169</td>\n",
       "      <td>0.020474</td>\n",
       "      <td>ZUPT</td>\n",
       "    </tr>\n",
       "    <tr>\n",
       "      <th>4</th>\n",
       "      <td>0.049621</td>\n",
       "      <td>0.018727</td>\n",
       "      <td>-0.964618</td>\n",
       "      <td>0.006947</td>\n",
       "      <td>0.002450</td>\n",
       "      <td>0.020432</td>\n",
       "      <td>ZUPT</td>\n",
       "    </tr>\n",
       "    <tr>\n",
       "      <th>...</th>\n",
       "      <td>...</td>\n",
       "      <td>...</td>\n",
       "      <td>...</td>\n",
       "      <td>...</td>\n",
       "      <td>...</td>\n",
       "      <td>...</td>\n",
       "      <td>...</td>\n",
       "    </tr>\n",
       "    <tr>\n",
       "      <th>309288</th>\n",
       "      <td>0.039091</td>\n",
       "      <td>0.047983</td>\n",
       "      <td>-0.969522</td>\n",
       "      <td>0.012581</td>\n",
       "      <td>0.003247</td>\n",
       "      <td>0.017652</td>\n",
       "      <td>ZUPT</td>\n",
       "    </tr>\n",
       "    <tr>\n",
       "      <th>309289</th>\n",
       "      <td>0.038572</td>\n",
       "      <td>0.048589</td>\n",
       "      <td>-0.967682</td>\n",
       "      <td>0.012542</td>\n",
       "      <td>0.003128</td>\n",
       "      <td>0.018178</td>\n",
       "      <td>ZUPT</td>\n",
       "    </tr>\n",
       "    <tr>\n",
       "      <th>309290</th>\n",
       "      <td>0.039629</td>\n",
       "      <td>0.049790</td>\n",
       "      <td>-0.966720</td>\n",
       "      <td>0.011865</td>\n",
       "      <td>0.002885</td>\n",
       "      <td>0.018885</td>\n",
       "      <td>ZUPT</td>\n",
       "    </tr>\n",
       "    <tr>\n",
       "      <th>309291</th>\n",
       "      <td>0.040159</td>\n",
       "      <td>0.049869</td>\n",
       "      <td>-0.968147</td>\n",
       "      <td>0.011289</td>\n",
       "      <td>0.003168</td>\n",
       "      <td>0.019393</td>\n",
       "      <td>ZUPT</td>\n",
       "    </tr>\n",
       "    <tr>\n",
       "      <th>309292</th>\n",
       "      <td>0.039808</td>\n",
       "      <td>0.048663</td>\n",
       "      <td>-0.969034</td>\n",
       "      <td>0.011657</td>\n",
       "      <td>0.003645</td>\n",
       "      <td>0.019073</td>\n",
       "      <td>ZUPT</td>\n",
       "    </tr>\n",
       "  </tbody>\n",
       "</table>\n",
       "<p>309293 rows × 7 columns</p>\n",
       "</div>"
      ],
      "text/plain": [
       "            acc1      acc2      acc3     gyro1     gyro2     gyro3 label\n",
       "0       0.049480  0.020245 -0.966540  0.008045  0.002663  0.020730  ZUPT\n",
       "1       0.050344  0.019859 -0.965713  0.007756  0.003090  0.020838  ZUPT\n",
       "2       0.049442  0.020100 -0.965527  0.007091  0.003318  0.020846  ZUPT\n",
       "3       0.049006  0.019358 -0.964957  0.006870  0.003169  0.020474  ZUPT\n",
       "4       0.049621  0.018727 -0.964618  0.006947  0.002450  0.020432  ZUPT\n",
       "...          ...       ...       ...       ...       ...       ...   ...\n",
       "309288  0.039091  0.047983 -0.969522  0.012581  0.003247  0.017652  ZUPT\n",
       "309289  0.038572  0.048589 -0.967682  0.012542  0.003128  0.018178  ZUPT\n",
       "309290  0.039629  0.049790 -0.966720  0.011865  0.002885  0.018885  ZUPT\n",
       "309291  0.040159  0.049869 -0.968147  0.011289  0.003168  0.019393  ZUPT\n",
       "309292  0.039808  0.048663 -0.969034  0.011657  0.003645  0.019073  ZUPT\n",
       "\n",
       "[309293 rows x 7 columns]"
      ]
     },
     "execution_count": 257,
     "metadata": {},
     "output_type": "execute_result"
    }
   ],
   "source": [
    "X_train = pd.concat([X_100_df, X_300_df, X_500_df, X_700_df, X_900_df,\n",
    "                        X_1100_df, X_1300_df, X_1500_df, X_1700_df], ignore_index = True)\n",
    "X_train"
   ]
  },
  {
   "cell_type": "code",
   "execution_count": 258,
   "metadata": {},
   "outputs": [
    {
     "data": {
      "text/html": [
       "<div>\n",
       "<style scoped>\n",
       "    .dataframe tbody tr th:only-of-type {\n",
       "        vertical-align: middle;\n",
       "    }\n",
       "\n",
       "    .dataframe tbody tr th {\n",
       "        vertical-align: top;\n",
       "    }\n",
       "\n",
       "    .dataframe thead th {\n",
       "        text-align: right;\n",
       "    }\n",
       "</style>\n",
       "<table border=\"1\" class=\"dataframe\">\n",
       "  <thead>\n",
       "    <tr style=\"text-align: right;\">\n",
       "      <th></th>\n",
       "      <th>acc1</th>\n",
       "      <th>acc2</th>\n",
       "      <th>acc3</th>\n",
       "      <th>gyro1</th>\n",
       "      <th>gyro2</th>\n",
       "      <th>gyro3</th>\n",
       "      <th>label</th>\n",
       "    </tr>\n",
       "  </thead>\n",
       "  <tbody>\n",
       "    <tr>\n",
       "      <th>0</th>\n",
       "      <td>0.054496</td>\n",
       "      <td>0.013683</td>\n",
       "      <td>-0.966700</td>\n",
       "      <td>-0.000652</td>\n",
       "      <td>0.002393</td>\n",
       "      <td>0.021989</td>\n",
       "      <td>ZUPT</td>\n",
       "    </tr>\n",
       "    <tr>\n",
       "      <th>1</th>\n",
       "      <td>0.055462</td>\n",
       "      <td>0.012649</td>\n",
       "      <td>-0.967454</td>\n",
       "      <td>-0.001081</td>\n",
       "      <td>0.001593</td>\n",
       "      <td>0.021492</td>\n",
       "      <td>ZUPT</td>\n",
       "    </tr>\n",
       "    <tr>\n",
       "      <th>2</th>\n",
       "      <td>0.055335</td>\n",
       "      <td>0.012900</td>\n",
       "      <td>-0.966855</td>\n",
       "      <td>-0.000744</td>\n",
       "      <td>0.001462</td>\n",
       "      <td>0.021069</td>\n",
       "      <td>ZUPT</td>\n",
       "    </tr>\n",
       "    <tr>\n",
       "      <th>3</th>\n",
       "      <td>0.055307</td>\n",
       "      <td>0.013113</td>\n",
       "      <td>-0.966312</td>\n",
       "      <td>0.000032</td>\n",
       "      <td>0.001752</td>\n",
       "      <td>0.020630</td>\n",
       "      <td>ZUPT</td>\n",
       "    </tr>\n",
       "    <tr>\n",
       "      <th>4</th>\n",
       "      <td>0.056035</td>\n",
       "      <td>0.014941</td>\n",
       "      <td>-0.965898</td>\n",
       "      <td>0.000640</td>\n",
       "      <td>0.002589</td>\n",
       "      <td>0.020460</td>\n",
       "      <td>ZUPT</td>\n",
       "    </tr>\n",
       "    <tr>\n",
       "      <th>...</th>\n",
       "      <td>...</td>\n",
       "      <td>...</td>\n",
       "      <td>...</td>\n",
       "      <td>...</td>\n",
       "      <td>...</td>\n",
       "      <td>...</td>\n",
       "      <td>...</td>\n",
       "    </tr>\n",
       "    <tr>\n",
       "      <th>309976</th>\n",
       "      <td>0.047317</td>\n",
       "      <td>0.050851</td>\n",
       "      <td>-0.971659</td>\n",
       "      <td>0.009881</td>\n",
       "      <td>0.002747</td>\n",
       "      <td>0.017917</td>\n",
       "      <td>ZUPT</td>\n",
       "    </tr>\n",
       "    <tr>\n",
       "      <th>309977</th>\n",
       "      <td>0.046905</td>\n",
       "      <td>0.050681</td>\n",
       "      <td>-0.971899</td>\n",
       "      <td>0.009774</td>\n",
       "      <td>0.003047</td>\n",
       "      <td>0.018088</td>\n",
       "      <td>ZUPT</td>\n",
       "    </tr>\n",
       "    <tr>\n",
       "      <th>309978</th>\n",
       "      <td>0.046916</td>\n",
       "      <td>0.051412</td>\n",
       "      <td>-0.970592</td>\n",
       "      <td>0.009553</td>\n",
       "      <td>0.003168</td>\n",
       "      <td>0.018436</td>\n",
       "      <td>ZUPT</td>\n",
       "    </tr>\n",
       "    <tr>\n",
       "      <th>309979</th>\n",
       "      <td>0.046765</td>\n",
       "      <td>0.053066</td>\n",
       "      <td>-0.970593</td>\n",
       "      <td>0.009953</td>\n",
       "      <td>0.002888</td>\n",
       "      <td>0.018851</td>\n",
       "      <td>ZUPT</td>\n",
       "    </tr>\n",
       "    <tr>\n",
       "      <th>309980</th>\n",
       "      <td>0.046626</td>\n",
       "      <td>0.054777</td>\n",
       "      <td>-0.969859</td>\n",
       "      <td>0.010708</td>\n",
       "      <td>0.002981</td>\n",
       "      <td>0.018867</td>\n",
       "      <td>ZUPT</td>\n",
       "    </tr>\n",
       "  </tbody>\n",
       "</table>\n",
       "<p>309981 rows × 7 columns</p>\n",
       "</div>"
      ],
      "text/plain": [
       "            acc1      acc2      acc3     gyro1     gyro2     gyro3 label\n",
       "0       0.054496  0.013683 -0.966700 -0.000652  0.002393  0.021989  ZUPT\n",
       "1       0.055462  0.012649 -0.967454 -0.001081  0.001593  0.021492  ZUPT\n",
       "2       0.055335  0.012900 -0.966855 -0.000744  0.001462  0.021069  ZUPT\n",
       "3       0.055307  0.013113 -0.966312  0.000032  0.001752  0.020630  ZUPT\n",
       "4       0.056035  0.014941 -0.965898  0.000640  0.002589  0.020460  ZUPT\n",
       "...          ...       ...       ...       ...       ...       ...   ...\n",
       "309976  0.047317  0.050851 -0.971659  0.009881  0.002747  0.017917  ZUPT\n",
       "309977  0.046905  0.050681 -0.971899  0.009774  0.003047  0.018088  ZUPT\n",
       "309978  0.046916  0.051412 -0.970592  0.009553  0.003168  0.018436  ZUPT\n",
       "309979  0.046765  0.053066 -0.970593  0.009953  0.002888  0.018851  ZUPT\n",
       "309980  0.046626  0.054777 -0.969859  0.010708  0.002981  0.018867  ZUPT\n",
       "\n",
       "[309981 rows x 7 columns]"
      ]
     },
     "execution_count": 258,
     "metadata": {},
     "output_type": "execute_result"
    }
   ],
   "source": [
    "X_test = pd.concat([X_200_df, X_400_df, X_600_df, X_800_df, X_1000_df,\n",
    "                    X_1200_df, X_1400_df, X_1600_df, X_1800_df], ignore_index = True)\n",
    "X_test"
   ]
  },
  {
   "cell_type": "code",
   "execution_count": 259,
   "metadata": {},
   "outputs": [
    {
     "data": {
      "image/png": "[encoded data removed]",
      "text/plain": [
       "<Figure size 432x288 with 1 Axes>"
      ]
     },
     "metadata": {
      "needs_background": "light"
     },
     "output_type": "display_data"
    },
    {
     "data": {
      "image/png": "[encoded data removed]",
      "text/plain": [
       "<Figure size 432x288 with 1 Axes>"
      ]
     },
     "metadata": {
      "needs_background": "light"
     },
     "output_type": "display_data"
    }
   ],
   "source": [
    "X_train.plot(y=['gyro1','gyro2','gyro3'], use_index=True)\n",
    "X_train.plot(y=['acc1','acc2','acc3'], use_index=True)\n",
    "plt.show()"
   ]
  },
  {
   "cell_type": "code",
   "execution_count": 260,
   "metadata": {},
   "outputs": [
    {
     "data": {
      "image/png": "[encoded data removed]",
      "text/plain": [
       "<Figure size 432x288 with 1 Axes>"
      ]
     },
     "metadata": {
      "needs_background": "light"
     },
     "output_type": "display_data"
    },
    {
     "data": {
      "image/png": "[encoded data removed]",
      "text/plain": [
       "<Figure size 432x288 with 1 Axes>"
      ]
     },
     "metadata": {
      "needs_background": "light"
     },
     "output_type": "display_data"
    }
   ],
   "source": [
    "X_test.plot(y=['gyro1','gyro2','gyro3'], use_index=True)\n",
    "X_test.plot(y=['acc1','acc2','acc3'], use_index=True)\n",
    "plt.show()"
   ]
  },
  {
   "cell_type": "code",
   "execution_count": 261,
   "metadata": {},
   "outputs": [],
   "source": [
    "del X_100_df,X_200_df,X_300_df,X_400_df,X_500_df,X_600_df,X_700_df,X_800_df,X_900_df,X_1000_df,X_1100_df,X_1200_df,X_1300_df,X_1400_df,X_1500_df,X_1600_df,X_1700_df,X_1800_df"
   ]
  },
  {
   "cell_type": "markdown",
   "metadata": {},
   "source": [
    "Check if there are nan values:"
   ]
  },
  {
   "cell_type": "code",
   "execution_count": 262,
   "metadata": {},
   "outputs": [
    {
     "name": "stdout",
     "output_type": "stream",
     "text": [
      "False\n",
      "False\n"
     ]
    }
   ],
   "source": [
    "print(X_train.isnull().values.any())\n",
    "print(X_test.isnull().values.any())"
   ]
  },
  {
   "cell_type": "code",
   "execution_count": 263,
   "metadata": {},
   "outputs": [],
   "source": [
    "X_train.to_csv(dataset_save+'6sig_train.csv', index=None, mode='a')\n",
    "X_test.to_csv(dataset_save+'6sig_test.csv', index=None, mode='a') "
   ]
  },
  {
   "cell_type": "code",
   "execution_count": 264,
   "metadata": {},
   "outputs": [
    {
     "data": {
      "text/plain": [
       "<bound method NDFrame.head of             acc1      acc2      acc3     gyro1     gyro2     gyro3 label\n",
       "0       0.049480  0.020245 -0.966540  0.008045  0.002663  0.020730  ZUPT\n",
       "1       0.050344  0.019859 -0.965713  0.007756  0.003090  0.020838  ZUPT\n",
       "2       0.049442  0.020100 -0.965527  0.007091  0.003318  0.020846  ZUPT\n",
       "3       0.049006  0.019358 -0.964957  0.006870  0.003169  0.020474  ZUPT\n",
       "4       0.049621  0.018727 -0.964618  0.006947  0.002450  0.020432  ZUPT\n",
       "...          ...       ...       ...       ...       ...       ...   ...\n",
       "309288  0.039091  0.047983 -0.969522  0.012581  0.003247  0.017652  ZUPT\n",
       "309289  0.038572  0.048589 -0.967682  0.012542  0.003128  0.018178  ZUPT\n",
       "309290  0.039629  0.049790 -0.966720  0.011865  0.002885  0.018885  ZUPT\n",
       "309291  0.040159  0.049869 -0.968147  0.011289  0.003168  0.019393  ZUPT\n",
       "309292  0.039808  0.048663 -0.969034  0.011657  0.003645  0.019073  ZUPT\n",
       "\n",
       "[309293 rows x 7 columns]>"
      ]
     },
     "execution_count": 264,
     "metadata": {},
     "output_type": "execute_result"
    }
   ],
   "source": [
    "X_train.head"
   ]
  }
 ],
 "metadata": {
  "kernelspec": {
   "display_name": "Python 3",
   "language": "python",
   "name": "python3"
  },
  "language_info": {
   "codemirror_mode": {
    "name": "ipython",
    "version": 3
   },
   "file_extension": ".py",
   "mimetype": "text/x-python",
   "name": "python",
   "nbconvert_exporter": "python",
   "pygments_lexer": "ipython3",
   "version": "3.10.5"
  },
  "orig_nbformat": 4
 },
 "nbformat": 4,
 "nbformat_minor": 2
}

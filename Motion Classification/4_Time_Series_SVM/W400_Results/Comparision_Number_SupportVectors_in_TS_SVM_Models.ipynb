{
 "cells": [
  {
   "cell_type": "code",
   "execution_count": 3,
   "metadata": {},
   "outputs": [],
   "source": [
    "import pickle"
   ]
  },
  {
   "cell_type": "code",
   "execution_count": 4,
   "metadata": {},
   "outputs": [
    {
     "name": "stdout",
     "output_type": "stream",
     "text": [
      "Model: 400HD_6sig_pca6_800_balanced_clf.sav - Number of support vectors: 6281\n",
      "Model: 400HD_6sig_pca6_1200_balanced_clf.sav - Number of support vectors: 8316\n",
      "Model: 400HD_6sig_pca6_4000_balanced_clf.sav - Number of support vectors: 18973\n",
      "Model: 400HD_6sig_pca6_8000_balanced_clf.sav - Number of support vectors: 30789\n",
      "Model: 400HD_6sig_pca6_12000_balanced_clf.sav - Number of support vectors: 41452\n",
      "Model: 400HD_6sig_pca6_24000_balanced_clf.sav - Number of support vectors: 69793\n"
     ]
    }
   ],
   "source": [
    "# List of model file paths\n",
    "model_paths = [\n",
    "    r'400HD_6sig_pca6_800_balanced_clf.sav',\n",
    "    r'400HD_6sig_pca6_1200_balanced_clf.sav',\n",
    "    r'400HD_6sig_pca6_4000_balanced_clf.sav',\n",
    "    r'400HD_6sig_pca6_8000_balanced_clf.sav',\n",
    "    r'400HD_6sig_pca6_12000_balanced_clf.sav',\n",
    "    r'400HD_6sig_pca6_24000_balanced_clf.sav'\n",
    "]\n",
    "\n",
    "# Loop through each file path\n",
    "for model_path in model_paths:\n",
    "    # Load the trained SVM model\n",
    "    with open(model_path, 'rb') as file:\n",
    "        svm_model = pickle.load(file)\n",
    "    \n",
    "    # Get the support vectors\n",
    "    support_vectors = svm_model.support_vectors_\n",
    "    \n",
    "    # Print the number of support vector points\n",
    "    print(f\"Model: {model_path} - Number of support vectors: {support_vectors.shape[0]}\")"
   ]
  }
 ],
 "metadata": {
  "kernelspec": {
   "display_name": "Python 3",
   "language": "python",
   "name": "python3"
  },
  "language_info": {
   "codemirror_mode": {
    "name": "ipython",
    "version": 3
   },
   "file_extension": ".py",
   "mimetype": "text/x-python",
   "name": "python",
   "nbconvert_exporter": "python",
   "pygments_lexer": "ipython3",
   "version": "3.10.5"
  }
 },
 "nbformat": 4,
 "nbformat_minor": 2
}

{
 "cells": [
  {
   "cell_type": "markdown",
   "metadata": {},
   "source": [
    "---\n",
    "## **High Dimensional Test Dataset Creation - Paper Test Dataset Creation**\n",
    "---"
   ]
  },
  {
   "cell_type": "markdown",
   "metadata": {},
   "source": [
    "<font size=\"2\">Eudald Sangenis  \n",
    "Creation: 7/11/2022  \n",
    "Last Update: 7/11/2022  \n",
    "\n",
    "The objective of this file is to create the High Dimensional Dataset from the Test Dataset used in the IEEE 2022 Sensors Conference Paper.\n",
    "\n",
    "Parameters High Dimensional Dataset:  \n",
    "- 6 signals from the IMU  \n",
    "- variable window size  \n",
    "\n",
    "Once this dataset is created the next step is to predict the labels and verify the navigation solution.</font>"
   ]
  },
  {
   "cell_type": "markdown",
   "metadata": {},
   "source": [
    "---\n",
    "## **<font size=\"5\">1. Libraries</font>**\n",
    "---"
   ]
  },
  {
   "cell_type": "code",
   "execution_count": 1,
   "metadata": {},
   "outputs": [],
   "source": [
    "import math\n",
    "import numpy as np\n",
    "import pandas as pd\n",
    "from tqdm import tqdm\n",
    "import seaborn as sns\n",
    "import scipy.io as spio\n",
    "import matplotlib.pyplot as plt"
   ]
  },
  {
   "cell_type": "markdown",
   "metadata": {},
   "source": [
    "---\n",
    "## **<font size=\"5\">2. Functions:</font>**\n",
    "---"
   ]
  },
  {
   "cell_type": "code",
   "execution_count": 2,
   "metadata": {},
   "outputs": [],
   "source": [
    "# convert deg to radians\n",
    "def deg_to_rad(dr):\n",
    "    return (dr*math.pi)/180\n",
    "\n",
    "# convert the .mat datsets to pandas datframe\n",
    "def mat2pandas(file_name):\n",
    "    mat = spio.loadmat(file_name +'.mat')\n",
    "    mdata = mat['u'];  # variable in mat file\n",
    "    mdata = np.transpose(mdata)\n",
    "    # creating df object with columns specified    \n",
    "    df = pd.DataFrame(mdata, columns = ['acc1','acc2','acc3',\n",
    "                                        'gyro1','gyro2','gyro3',\n",
    "                                        'na','timestamp','na2',\n",
    "                                        'airPressure','samplePeriodS','magnetometer_x',\n",
    "                                        'magnetometer_y','magnetometer_z','temperatureC',])\n",
    "    df = df.drop(['na', 'na2','airPressure','samplePeriodS',\n",
    "                  'magnetometer_x','magnetometer_y','magnetometer_z','temperatureC'], axis=1)\n",
    "    # reorganize dataset to timestamp be the first column\n",
    "    df = df[['timestamp','acc1','acc2','acc3','gyro1','gyro2','gyro3']]\n",
    "    # convert from deg/min -> rad/min\n",
    "    df['gyro1'] = deg_to_rad(df['gyro1'])\n",
    "    df['gyro2'] = deg_to_rad(df['gyro2'])\n",
    "    df['gyro3'] = deg_to_rad(df['gyro3'])\n",
    "    return df"
   ]
  },
  {
   "cell_type": "markdown",
   "metadata": {},
   "source": [
    "---\n",
    "## **<font size=\"5\">3. Data Handling</font>**\n",
    "---"
   ]
  },
  {
   "cell_type": "code",
   "execution_count": 3,
   "metadata": {},
   "outputs": [],
   "source": [
    "window = 401            #51, 101, 201, 401\n",
    "type_dataset = 'exp800'\n",
    "df_exp = type_dataset+'_VN'   #exp100_VN,exp200_VN,exp300_VN,exp400_VN,exp500_VN,exp600_VN\n",
    "data_dataset = '2023_08_30'\n",
    "num_signals = 6\n",
    "\n",
    "# 6 signals\n",
    "dataset_path_unlab = 'G:\\\\Shared drives\\\\NIST-Pedestrian Activity Classification\\\\motion classification\\\\1_unlabeled_datasets\\\\'+data_dataset+'\\\\'\n",
    "# save dataset path\n",
    "dataset_save = 'G:\\\\Shared drives\\\\NIST-Pedestrian Activity Classification\\\\motion classification\\\\6_HD_6sig_SVM_Paper_Results\\\\HD_datasets\\\\'+data_dataset+'\\\\'"
   ]
  },
  {
   "cell_type": "code",
   "execution_count": 4,
   "metadata": {},
   "outputs": [
    {
     "data": {
      "text/html": [
       "<div>\n",
       "<style scoped>\n",
       "    .dataframe tbody tr th:only-of-type {\n",
       "        vertical-align: middle;\n",
       "    }\n",
       "\n",
       "    .dataframe tbody tr th {\n",
       "        vertical-align: top;\n",
       "    }\n",
       "\n",
       "    .dataframe thead th {\n",
       "        text-align: right;\n",
       "    }\n",
       "</style>\n",
       "<table border=\"1\" class=\"dataframe\">\n",
       "  <thead>\n",
       "    <tr style=\"text-align: right;\">\n",
       "      <th></th>\n",
       "      <th>timestamp</th>\n",
       "      <th>acc1</th>\n",
       "      <th>acc2</th>\n",
       "      <th>acc3</th>\n",
       "      <th>gyro1</th>\n",
       "      <th>gyro2</th>\n",
       "      <th>gyro3</th>\n",
       "    </tr>\n",
       "  </thead>\n",
       "  <tbody>\n",
       "    <tr>\n",
       "      <th>0</th>\n",
       "      <td>0.00000</td>\n",
       "      <td>-0.002282</td>\n",
       "      <td>0.036161</td>\n",
       "      <td>-0.982269</td>\n",
       "      <td>0.002690</td>\n",
       "      <td>0.001292</td>\n",
       "      <td>-0.021956</td>\n",
       "    </tr>\n",
       "    <tr>\n",
       "      <th>1</th>\n",
       "      <td>0.00125</td>\n",
       "      <td>0.001243</td>\n",
       "      <td>0.034938</td>\n",
       "      <td>-0.978653</td>\n",
       "      <td>0.002432</td>\n",
       "      <td>0.001395</td>\n",
       "      <td>-0.022115</td>\n",
       "    </tr>\n",
       "  </tbody>\n",
       "</table>\n",
       "</div>"
      ],
      "text/plain": [
       "   timestamp      acc1      acc2      acc3     gyro1     gyro2     gyro3\n",
       "0    0.00000 -0.002282  0.036161 -0.982269  0.002690  0.001292 -0.021956\n",
       "1    0.00125  0.001243  0.034938 -0.978653  0.002432  0.001395 -0.022115"
      ]
     },
     "execution_count": 4,
     "metadata": {},
     "output_type": "execute_result"
    }
   ],
   "source": [
    "df = (dataset_path_unlab+df_exp)\n",
    "\n",
    "X = mat2pandas(df)\n",
    "X.head(2)"
   ]
  },
  {
   "cell_type": "code",
   "execution_count": 5,
   "metadata": {},
   "outputs": [
    {
     "name": "stdout",
     "output_type": "stream",
     "text": [
      "(72807, 7)\n"
     ]
    }
   ],
   "source": [
    "print(X.shape)"
   ]
  },
  {
   "cell_type": "code",
   "execution_count": 6,
   "metadata": {},
   "outputs": [
    {
     "data": {
      "text/html": [
       "<div>\n",
       "<style scoped>\n",
       "    .dataframe tbody tr th:only-of-type {\n",
       "        vertical-align: middle;\n",
       "    }\n",
       "\n",
       "    .dataframe tbody tr th {\n",
       "        vertical-align: top;\n",
       "    }\n",
       "\n",
       "    .dataframe thead th {\n",
       "        text-align: right;\n",
       "    }\n",
       "</style>\n",
       "<table border=\"1\" class=\"dataframe\">\n",
       "  <thead>\n",
       "    <tr style=\"text-align: right;\">\n",
       "      <th></th>\n",
       "      <th>acc1</th>\n",
       "      <th>acc2</th>\n",
       "      <th>acc3</th>\n",
       "      <th>gyro1</th>\n",
       "      <th>gyro2</th>\n",
       "      <th>gyro3</th>\n",
       "    </tr>\n",
       "  </thead>\n",
       "  <tbody>\n",
       "    <tr>\n",
       "      <th>0</th>\n",
       "      <td>-0.002282</td>\n",
       "      <td>0.036161</td>\n",
       "      <td>-0.982269</td>\n",
       "      <td>0.002690</td>\n",
       "      <td>0.001292</td>\n",
       "      <td>-0.021956</td>\n",
       "    </tr>\n",
       "    <tr>\n",
       "      <th>1</th>\n",
       "      <td>0.001243</td>\n",
       "      <td>0.034938</td>\n",
       "      <td>-0.978653</td>\n",
       "      <td>0.002432</td>\n",
       "      <td>0.001395</td>\n",
       "      <td>-0.022115</td>\n",
       "    </tr>\n",
       "  </tbody>\n",
       "</table>\n",
       "</div>"
      ],
      "text/plain": [
       "       acc1      acc2      acc3     gyro1     gyro2     gyro3\n",
       "0 -0.002282  0.036161 -0.982269  0.002690  0.001292 -0.021956\n",
       "1  0.001243  0.034938 -0.978653  0.002432  0.001395 -0.022115"
      ]
     },
     "execution_count": 6,
     "metadata": {},
     "output_type": "execute_result"
    }
   ],
   "source": [
    "c = ['timestamp']\n",
    "X = X.drop(columns=c)\n",
    "X.head(2)"
   ]
  },
  {
   "cell_type": "code",
   "execution_count": 7,
   "metadata": {},
   "outputs": [
    {
     "data": {
      "text/html": [
       "<div>\n",
       "<style scoped>\n",
       "    .dataframe tbody tr th:only-of-type {\n",
       "        vertical-align: middle;\n",
       "    }\n",
       "\n",
       "    .dataframe tbody tr th {\n",
       "        vertical-align: top;\n",
       "    }\n",
       "\n",
       "    .dataframe thead th {\n",
       "        text-align: right;\n",
       "    }\n",
       "</style>\n",
       "<table border=\"1\" class=\"dataframe\">\n",
       "  <thead>\n",
       "    <tr style=\"text-align: right;\">\n",
       "      <th></th>\n",
       "      <th>acc1_t</th>\n",
       "      <th>acc2_t</th>\n",
       "      <th>acc3_t</th>\n",
       "      <th>gyro1_t</th>\n",
       "      <th>gyro2_t</th>\n",
       "      <th>gyro3_t</th>\n",
       "    </tr>\n",
       "  </thead>\n",
       "  <tbody>\n",
       "    <tr>\n",
       "      <th>0</th>\n",
       "      <td>-0.002282</td>\n",
       "      <td>0.036161</td>\n",
       "      <td>-0.982269</td>\n",
       "      <td>0.002690</td>\n",
       "      <td>0.001292</td>\n",
       "      <td>-0.021956</td>\n",
       "    </tr>\n",
       "    <tr>\n",
       "      <th>1</th>\n",
       "      <td>0.001243</td>\n",
       "      <td>0.034938</td>\n",
       "      <td>-0.978653</td>\n",
       "      <td>0.002432</td>\n",
       "      <td>0.001395</td>\n",
       "      <td>-0.022115</td>\n",
       "    </tr>\n",
       "  </tbody>\n",
       "</table>\n",
       "</div>"
      ],
      "text/plain": [
       "     acc1_t    acc2_t    acc3_t   gyro1_t   gyro2_t   gyro3_t\n",
       "0 -0.002282  0.036161 -0.982269  0.002690  0.001292 -0.021956\n",
       "1  0.001243  0.034938 -0.978653  0.002432  0.001395 -0.022115"
      ]
     },
     "execution_count": 7,
     "metadata": {},
     "output_type": "execute_result"
    }
   ],
   "source": [
    "X = X.rename(columns={\"acc1\": \"acc1_t\", \"acc2\": \"acc2_t\", \"acc3\": \"acc3_t\", \"gyro1\": \"gyro1_t\", \"gyro2\": \"gyro2_t\", \"gyro3\": \"gyro3_t\"})\n",
    "X.head(2)"
   ]
  },
  {
   "cell_type": "code",
   "execution_count": 8,
   "metadata": {},
   "outputs": [
    {
     "data": {
      "image/png": "[encoded data removed]",
      "text/plain": [
       "<Figure size 432x288 with 1 Axes>"
      ]
     },
     "metadata": {
      "needs_background": "light"
     },
     "output_type": "display_data"
    },
    {
     "data": {
      "image/png": "[encoded data removed]",
      "text/plain": [
       "<Figure size 432x288 with 1 Axes>"
      ]
     },
     "metadata": {
      "needs_background": "light"
     },
     "output_type": "display_data"
    }
   ],
   "source": [
    "X.plot(y=['gyro1_t','gyro2_t','gyro3_t'], use_index=True)\n",
    "X.plot(y=['acc1_t','acc2_t','acc3_t'], use_index=True)\n",
    "plt.show()"
   ]
  },
  {
   "cell_type": "markdown",
   "metadata": {},
   "source": [
    "Check if there are nan values:"
   ]
  },
  {
   "cell_type": "code",
   "execution_count": 9,
   "metadata": {},
   "outputs": [
    {
     "data": {
      "text/plain": [
       "False"
      ]
     },
     "execution_count": 9,
     "metadata": {},
     "output_type": "execute_result"
    }
   ],
   "source": [
    "X.isnull().values.any()"
   ]
  },
  {
   "cell_type": "code",
   "execution_count": 10,
   "metadata": {},
   "outputs": [
    {
     "name": "stdout",
     "output_type": "stream",
     "text": [
      "Longitude header df 2406\n"
     ]
    }
   ],
   "source": [
    "s = []\n",
    "for i in range(window-1,-1,-1):\n",
    "    s = np.concatenate((s, [f'acc1_t{i}', f'acc2_t{i}', f'acc3_t{i}', f'gyro1_t{i}', f'gyro2_t{i}', f'gyro3_t{i}']))\n",
    "pd.DataFrame(s).T.to_csv(dataset_save+'HD_'+str(window-1)+'_'+str(num_signals)+'sig_'+type_dataset+'.csv', header=None, index=None, mode='a') \n",
    "print('Longitude header df',len(s))"
   ]
  },
  {
   "cell_type": "code",
   "execution_count": 11,
   "metadata": {},
   "outputs": [
    {
     "name": "stderr",
     "output_type": "stream",
     "text": [
      "100%|██████████| 72407/72407 [28:15<00:00, 42.71it/s]  \n"
     ]
    }
   ],
   "source": [
    "d = []\n",
    "for row in tqdm(range(len(X)-window+1)): # range(len(X)-window)\n",
    "    for i in range(0,window):\n",
    "        d = np.concatenate((d, X.iloc[row+i,:]))\n",
    "    pd.DataFrame(d).T.to_csv(dataset_save+'HD_'+str(window-1)+'_'+str(num_signals)+'sig_'+type_dataset+'.csv', header=None, index=None, mode='a')    \n",
    "    d = []"
   ]
  },
  {
   "cell_type": "code",
   "execution_count": 12,
   "metadata": {},
   "outputs": [
    {
     "data": {
      "text/plain": [
       "False"
      ]
     },
     "execution_count": 12,
     "metadata": {},
     "output_type": "execute_result"
    }
   ],
   "source": [
    "t = pd.read_csv(dataset_save+'HD_'+str(window-1)+'_'+str(num_signals)+'sig_'+type_dataset+'.csv')\n",
    "t.isnull().values.any()"
   ]
  },
  {
   "cell_type": "code",
   "execution_count": 13,
   "metadata": {},
   "outputs": [
    {
     "data": {
      "text/html": [
       "<div>\n",
       "<style scoped>\n",
       "    .dataframe tbody tr th:only-of-type {\n",
       "        vertical-align: middle;\n",
       "    }\n",
       "\n",
       "    .dataframe tbody tr th {\n",
       "        vertical-align: top;\n",
       "    }\n",
       "\n",
       "    .dataframe thead th {\n",
       "        text-align: right;\n",
       "    }\n",
       "</style>\n",
       "<table border=\"1\" class=\"dataframe\">\n",
       "  <thead>\n",
       "    <tr style=\"text-align: right;\">\n",
       "      <th></th>\n",
       "      <th>acc1_t400</th>\n",
       "      <th>acc2_t400</th>\n",
       "      <th>acc3_t400</th>\n",
       "      <th>gyro1_t400</th>\n",
       "      <th>gyro2_t400</th>\n",
       "      <th>gyro3_t400</th>\n",
       "      <th>acc1_t399</th>\n",
       "      <th>acc2_t399</th>\n",
       "      <th>acc3_t399</th>\n",
       "      <th>gyro1_t399</th>\n",
       "      <th>...</th>\n",
       "      <th>acc3_t1</th>\n",
       "      <th>gyro1_t1</th>\n",
       "      <th>gyro2_t1</th>\n",
       "      <th>gyro3_t1</th>\n",
       "      <th>acc1_t0</th>\n",
       "      <th>acc2_t0</th>\n",
       "      <th>acc3_t0</th>\n",
       "      <th>gyro1_t0</th>\n",
       "      <th>gyro2_t0</th>\n",
       "      <th>gyro3_t0</th>\n",
       "    </tr>\n",
       "  </thead>\n",
       "  <tbody>\n",
       "    <tr>\n",
       "      <th>0</th>\n",
       "      <td>-0.002282</td>\n",
       "      <td>0.036161</td>\n",
       "      <td>-0.982269</td>\n",
       "      <td>0.002690</td>\n",
       "      <td>0.001292</td>\n",
       "      <td>-0.021956</td>\n",
       "      <td>0.001243</td>\n",
       "      <td>0.034938</td>\n",
       "      <td>-0.978653</td>\n",
       "      <td>0.002432</td>\n",
       "      <td>...</td>\n",
       "      <td>-0.980751</td>\n",
       "      <td>0.004735</td>\n",
       "      <td>-0.000351</td>\n",
       "      <td>-0.019196</td>\n",
       "      <td>-0.000387</td>\n",
       "      <td>0.032107</td>\n",
       "      <td>-0.980945</td>\n",
       "      <td>0.002490</td>\n",
       "      <td>-0.000570</td>\n",
       "      <td>-0.020520</td>\n",
       "    </tr>\n",
       "    <tr>\n",
       "      <th>1</th>\n",
       "      <td>0.001243</td>\n",
       "      <td>0.034938</td>\n",
       "      <td>-0.978653</td>\n",
       "      <td>0.002432</td>\n",
       "      <td>0.001395</td>\n",
       "      <td>-0.022115</td>\n",
       "      <td>0.001579</td>\n",
       "      <td>0.035264</td>\n",
       "      <td>-0.979132</td>\n",
       "      <td>0.000059</td>\n",
       "      <td>...</td>\n",
       "      <td>-0.980945</td>\n",
       "      <td>0.002490</td>\n",
       "      <td>-0.000570</td>\n",
       "      <td>-0.020520</td>\n",
       "      <td>-0.002862</td>\n",
       "      <td>0.033268</td>\n",
       "      <td>-0.981373</td>\n",
       "      <td>0.001935</td>\n",
       "      <td>-0.001200</td>\n",
       "      <td>-0.023816</td>\n",
       "    </tr>\n",
       "    <tr>\n",
       "      <th>2</th>\n",
       "      <td>0.001579</td>\n",
       "      <td>0.035264</td>\n",
       "      <td>-0.979132</td>\n",
       "      <td>0.000059</td>\n",
       "      <td>0.003073</td>\n",
       "      <td>-0.021633</td>\n",
       "      <td>-0.001508</td>\n",
       "      <td>0.037628</td>\n",
       "      <td>-0.979723</td>\n",
       "      <td>0.000365</td>\n",
       "      <td>...</td>\n",
       "      <td>-0.981373</td>\n",
       "      <td>0.001935</td>\n",
       "      <td>-0.001200</td>\n",
       "      <td>-0.023816</td>\n",
       "      <td>-0.007833</td>\n",
       "      <td>0.037709</td>\n",
       "      <td>-0.985468</td>\n",
       "      <td>0.003856</td>\n",
       "      <td>0.000086</td>\n",
       "      <td>-0.023872</td>\n",
       "    </tr>\n",
       "    <tr>\n",
       "      <th>3</th>\n",
       "      <td>-0.001508</td>\n",
       "      <td>0.037628</td>\n",
       "      <td>-0.979723</td>\n",
       "      <td>0.000365</td>\n",
       "      <td>0.002861</td>\n",
       "      <td>-0.020359</td>\n",
       "      <td>0.000051</td>\n",
       "      <td>0.036303</td>\n",
       "      <td>-0.979173</td>\n",
       "      <td>0.003192</td>\n",
       "      <td>...</td>\n",
       "      <td>-0.985468</td>\n",
       "      <td>0.003856</td>\n",
       "      <td>0.000086</td>\n",
       "      <td>-0.023872</td>\n",
       "      <td>-0.004696</td>\n",
       "      <td>0.039675</td>\n",
       "      <td>-0.982605</td>\n",
       "      <td>0.003495</td>\n",
       "      <td>-0.000608</td>\n",
       "      <td>-0.022969</td>\n",
       "    </tr>\n",
       "    <tr>\n",
       "      <th>4</th>\n",
       "      <td>0.000051</td>\n",
       "      <td>0.036303</td>\n",
       "      <td>-0.979173</td>\n",
       "      <td>0.003192</td>\n",
       "      <td>0.003460</td>\n",
       "      <td>-0.020737</td>\n",
       "      <td>0.001090</td>\n",
       "      <td>0.033034</td>\n",
       "      <td>-0.978836</td>\n",
       "      <td>0.001626</td>\n",
       "      <td>...</td>\n",
       "      <td>-0.982605</td>\n",
       "      <td>0.003495</td>\n",
       "      <td>-0.000608</td>\n",
       "      <td>-0.022969</td>\n",
       "      <td>-0.002465</td>\n",
       "      <td>0.038616</td>\n",
       "      <td>-0.979081</td>\n",
       "      <td>0.002737</td>\n",
       "      <td>0.000810</td>\n",
       "      <td>-0.020203</td>\n",
       "    </tr>\n",
       "    <tr>\n",
       "      <th>...</th>\n",
       "      <td>...</td>\n",
       "      <td>...</td>\n",
       "      <td>...</td>\n",
       "      <td>...</td>\n",
       "      <td>...</td>\n",
       "      <td>...</td>\n",
       "      <td>...</td>\n",
       "      <td>...</td>\n",
       "      <td>...</td>\n",
       "      <td>...</td>\n",
       "      <td>...</td>\n",
       "      <td>...</td>\n",
       "      <td>...</td>\n",
       "      <td>...</td>\n",
       "      <td>...</td>\n",
       "      <td>...</td>\n",
       "      <td>...</td>\n",
       "      <td>...</td>\n",
       "      <td>...</td>\n",
       "      <td>...</td>\n",
       "      <td>...</td>\n",
       "    </tr>\n",
       "    <tr>\n",
       "      <th>72402</th>\n",
       "      <td>-0.006448</td>\n",
       "      <td>0.045756</td>\n",
       "      <td>-0.982585</td>\n",
       "      <td>-0.001159</td>\n",
       "      <td>-0.002772</td>\n",
       "      <td>-0.021080</td>\n",
       "      <td>-0.004237</td>\n",
       "      <td>0.042792</td>\n",
       "      <td>-0.981760</td>\n",
       "      <td>-0.002072</td>\n",
       "      <td>...</td>\n",
       "      <td>-0.976127</td>\n",
       "      <td>0.002927</td>\n",
       "      <td>-0.002470</td>\n",
       "      <td>-0.021163</td>\n",
       "      <td>-0.007589</td>\n",
       "      <td>0.045685</td>\n",
       "      <td>-0.974324</td>\n",
       "      <td>0.002509</td>\n",
       "      <td>-0.002947</td>\n",
       "      <td>-0.021268</td>\n",
       "    </tr>\n",
       "    <tr>\n",
       "      <th>72403</th>\n",
       "      <td>-0.004237</td>\n",
       "      <td>0.042792</td>\n",
       "      <td>-0.981760</td>\n",
       "      <td>-0.002072</td>\n",
       "      <td>-0.001002</td>\n",
       "      <td>-0.020042</td>\n",
       "      <td>-0.003820</td>\n",
       "      <td>0.044911</td>\n",
       "      <td>-0.974986</td>\n",
       "      <td>-0.000879</td>\n",
       "      <td>...</td>\n",
       "      <td>-0.974324</td>\n",
       "      <td>0.002509</td>\n",
       "      <td>-0.002947</td>\n",
       "      <td>-0.021268</td>\n",
       "      <td>-0.008709</td>\n",
       "      <td>0.047824</td>\n",
       "      <td>-0.977176</td>\n",
       "      <td>0.001860</td>\n",
       "      <td>-0.000195</td>\n",
       "      <td>-0.021690</td>\n",
       "    </tr>\n",
       "    <tr>\n",
       "      <th>72404</th>\n",
       "      <td>-0.003820</td>\n",
       "      <td>0.044911</td>\n",
       "      <td>-0.974986</td>\n",
       "      <td>-0.000879</td>\n",
       "      <td>0.000363</td>\n",
       "      <td>-0.019025</td>\n",
       "      <td>-0.005175</td>\n",
       "      <td>0.047997</td>\n",
       "      <td>-0.975078</td>\n",
       "      <td>0.001848</td>\n",
       "      <td>...</td>\n",
       "      <td>-0.977176</td>\n",
       "      <td>0.001860</td>\n",
       "      <td>-0.000195</td>\n",
       "      <td>-0.021690</td>\n",
       "      <td>-0.005602</td>\n",
       "      <td>0.047335</td>\n",
       "      <td>-0.977930</td>\n",
       "      <td>0.001909</td>\n",
       "      <td>-0.000729</td>\n",
       "      <td>-0.020360</td>\n",
       "    </tr>\n",
       "    <tr>\n",
       "      <th>72405</th>\n",
       "      <td>-0.005175</td>\n",
       "      <td>0.047997</td>\n",
       "      <td>-0.975078</td>\n",
       "      <td>0.001848</td>\n",
       "      <td>0.000328</td>\n",
       "      <td>-0.019616</td>\n",
       "      <td>-0.006957</td>\n",
       "      <td>0.047376</td>\n",
       "      <td>-0.977512</td>\n",
       "      <td>0.001577</td>\n",
       "      <td>...</td>\n",
       "      <td>-0.977930</td>\n",
       "      <td>0.001909</td>\n",
       "      <td>-0.000729</td>\n",
       "      <td>-0.020360</td>\n",
       "      <td>-0.002934</td>\n",
       "      <td>0.046846</td>\n",
       "      <td>-0.980283</td>\n",
       "      <td>-0.000327</td>\n",
       "      <td>-0.002547</td>\n",
       "      <td>-0.019769</td>\n",
       "    </tr>\n",
       "    <tr>\n",
       "      <th>72406</th>\n",
       "      <td>-0.006957</td>\n",
       "      <td>0.047376</td>\n",
       "      <td>-0.977512</td>\n",
       "      <td>0.001577</td>\n",
       "      <td>-0.001252</td>\n",
       "      <td>-0.021465</td>\n",
       "      <td>-0.004625</td>\n",
       "      <td>0.046214</td>\n",
       "      <td>-0.978979</td>\n",
       "      <td>-0.000761</td>\n",
       "      <td>...</td>\n",
       "      <td>-0.980283</td>\n",
       "      <td>-0.000327</td>\n",
       "      <td>-0.002547</td>\n",
       "      <td>-0.019769</td>\n",
       "      <td>-0.005399</td>\n",
       "      <td>0.046612</td>\n",
       "      <td>-0.984021</td>\n",
       "      <td>0.000247</td>\n",
       "      <td>-0.002063</td>\n",
       "      <td>-0.020728</td>\n",
       "    </tr>\n",
       "  </tbody>\n",
       "</table>\n",
       "<p>72407 rows × 2406 columns</p>\n",
       "</div>"
      ],
      "text/plain": [
       "       acc1_t400  acc2_t400  acc3_t400  gyro1_t400  gyro2_t400  gyro3_t400  \\\n",
       "0      -0.002282   0.036161  -0.982269    0.002690    0.001292   -0.021956   \n",
       "1       0.001243   0.034938  -0.978653    0.002432    0.001395   -0.022115   \n",
       "2       0.001579   0.035264  -0.979132    0.000059    0.003073   -0.021633   \n",
       "3      -0.001508   0.037628  -0.979723    0.000365    0.002861   -0.020359   \n",
       "4       0.000051   0.036303  -0.979173    0.003192    0.003460   -0.020737   \n",
       "...          ...        ...        ...         ...         ...         ...   \n",
       "72402  -0.006448   0.045756  -0.982585   -0.001159   -0.002772   -0.021080   \n",
       "72403  -0.004237   0.042792  -0.981760   -0.002072   -0.001002   -0.020042   \n",
       "72404  -0.003820   0.044911  -0.974986   -0.000879    0.000363   -0.019025   \n",
       "72405  -0.005175   0.047997  -0.975078    0.001848    0.000328   -0.019616   \n",
       "72406  -0.006957   0.047376  -0.977512    0.001577   -0.001252   -0.021465   \n",
       "\n",
       "       acc1_t399  acc2_t399  acc3_t399  gyro1_t399  ...   acc3_t1  gyro1_t1  \\\n",
       "0       0.001243   0.034938  -0.978653    0.002432  ... -0.980751  0.004735   \n",
       "1       0.001579   0.035264  -0.979132    0.000059  ... -0.980945  0.002490   \n",
       "2      -0.001508   0.037628  -0.979723    0.000365  ... -0.981373  0.001935   \n",
       "3       0.000051   0.036303  -0.979173    0.003192  ... -0.985468  0.003856   \n",
       "4       0.001090   0.033034  -0.978836    0.001626  ... -0.982605  0.003495   \n",
       "...          ...        ...        ...         ...  ...       ...       ...   \n",
       "72402  -0.004237   0.042792  -0.981760   -0.002072  ... -0.976127  0.002927   \n",
       "72403  -0.003820   0.044911  -0.974986   -0.000879  ... -0.974324  0.002509   \n",
       "72404  -0.005175   0.047997  -0.975078    0.001848  ... -0.977176  0.001860   \n",
       "72405  -0.006957   0.047376  -0.977512    0.001577  ... -0.977930  0.001909   \n",
       "72406  -0.004625   0.046214  -0.978979   -0.000761  ... -0.980283 -0.000327   \n",
       "\n",
       "       gyro2_t1  gyro3_t1   acc1_t0   acc2_t0   acc3_t0  gyro1_t0  gyro2_t0  \\\n",
       "0     -0.000351 -0.019196 -0.000387  0.032107 -0.980945  0.002490 -0.000570   \n",
       "1     -0.000570 -0.020520 -0.002862  0.033268 -0.981373  0.001935 -0.001200   \n",
       "2     -0.001200 -0.023816 -0.007833  0.037709 -0.985468  0.003856  0.000086   \n",
       "3      0.000086 -0.023872 -0.004696  0.039675 -0.982605  0.003495 -0.000608   \n",
       "4     -0.000608 -0.022969 -0.002465  0.038616 -0.979081  0.002737  0.000810   \n",
       "...         ...       ...       ...       ...       ...       ...       ...   \n",
       "72402 -0.002470 -0.021163 -0.007589  0.045685 -0.974324  0.002509 -0.002947   \n",
       "72403 -0.002947 -0.021268 -0.008709  0.047824 -0.977176  0.001860 -0.000195   \n",
       "72404 -0.000195 -0.021690 -0.005602  0.047335 -0.977930  0.001909 -0.000729   \n",
       "72405 -0.000729 -0.020360 -0.002934  0.046846 -0.980283 -0.000327 -0.002547   \n",
       "72406 -0.002547 -0.019769 -0.005399  0.046612 -0.984021  0.000247 -0.002063   \n",
       "\n",
       "       gyro3_t0  \n",
       "0     -0.020520  \n",
       "1     -0.023816  \n",
       "2     -0.023872  \n",
       "3     -0.022969  \n",
       "4     -0.020203  \n",
       "...         ...  \n",
       "72402 -0.021268  \n",
       "72403 -0.021690  \n",
       "72404 -0.020360  \n",
       "72405 -0.019769  \n",
       "72406 -0.020728  \n",
       "\n",
       "[72407 rows x 2406 columns]"
      ]
     },
     "execution_count": 13,
     "metadata": {},
     "output_type": "execute_result"
    }
   ],
   "source": [
    "t"
   ]
  },
  {
   "cell_type": "code",
   "execution_count": 14,
   "metadata": {},
   "outputs": [
    {
     "data": {
      "text/plain": [
       "<AxesSubplot:>"
      ]
     },
     "execution_count": 14,
     "metadata": {},
     "output_type": "execute_result"
    },
    {
     "data": {
      "image/png": "[encoded data removed]",
      "text/plain": [
       "<Figure size 432x288 with 1 Axes>"
      ]
     },
     "metadata": {
      "needs_background": "light"
     },
     "output_type": "display_data"
    }
   ],
   "source": [
    "t.iloc[:,0:3].plot()"
   ]
  }
 ],
 "metadata": {
  "kernelspec": {
   "display_name": "Python 3.10.5 64-bit",
   "language": "python",
   "name": "python3"
  },
  "language_info": {
   "codemirror_mode": {
    "name": "ipython",
    "version": 3
   },
   "file_extension": ".py",
   "mimetype": "text/x-python",
   "name": "python",
   "nbconvert_exporter": "python",
   "pygments_lexer": "ipython3",
   "version": "3.10.5"
  },
  "orig_nbformat": 4,
  "vscode": {
   "interpreter": {
    "hash": "9103196f9419d8fa895c36bf5b3852f32d27a01beb0b11d5bcec3c7795f6c22a"
   }
  }
 },
 "nbformat": 4,
 "nbformat_minor": 2
}

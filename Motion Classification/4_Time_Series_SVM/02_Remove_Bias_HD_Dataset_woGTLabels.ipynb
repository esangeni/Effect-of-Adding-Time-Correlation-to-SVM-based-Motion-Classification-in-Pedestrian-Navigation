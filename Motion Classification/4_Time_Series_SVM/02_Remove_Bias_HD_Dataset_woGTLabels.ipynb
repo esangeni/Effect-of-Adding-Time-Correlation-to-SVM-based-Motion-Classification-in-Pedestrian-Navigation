{
 "cells": [
  {
   "cell_type": "markdown",
   "metadata": {},
   "source": [
    "---\n",
    "## **Remove bias and create a High Dimensional Dataset**\n",
    "---"
   ]
  },
  {
   "cell_type": "markdown",
   "metadata": {},
   "source": [
    "<font size=\"2\">Eudald Sangenis  \n",
    "\n",
    "The objective of this file is to create a High Dimensional dataset removing the bias of the 2 magnitude signals.\n",
    "\n",
    "Parameters High Dimensional Dataset:  \n",
    "- type_dataset: train, test \n",
    "- data_dataset:  2022_03_17 (Chico), 2022_04_25 (Chico), 2022_07_27 (Austin)\n",
    "- window_number: 100, 200</font>"
   ]
  },
  {
   "cell_type": "markdown",
   "metadata": {},
   "source": [
    "---\n",
    "## **<font size=\"5\">1. Libraries: </font>**\n",
    "---"
   ]
  },
  {
   "cell_type": "code",
   "execution_count": 1,
   "metadata": {},
   "outputs": [],
   "source": [
    "import math\n",
    "import numpy as np\n",
    "import pandas as pd  \n",
    "from tqdm import tqdm                   \n",
    "import seaborn as sns\n",
    "import scipy.io as spio\n",
    "import matplotlib.pyplot as plt"
   ]
  },
  {
   "cell_type": "markdown",
   "metadata": {},
   "source": [
    "---\n",
    "## **<font size=\"5\">2. Parameters to modify</font>**\n",
    "---"
   ]
  },
  {
   "cell_type": "code",
   "execution_count": 2,
   "metadata": {},
   "outputs": [],
   "source": [
    "type_dataset = 'exp800'       \n",
    "data_dataset = '2023_08_30' \n",
    "window_number = 400          # 50 100 200 400"
   ]
  },
  {
   "cell_type": "code",
   "execution_count": 3,
   "metadata": {},
   "outputs": [],
   "source": [
    "# Folder to read the labeled and HD datasets:\n",
    "dataset_path_unlabeled = 'G:\\\\Shared drives\\\\NIST-Pedestrian Activity Classification\\\\motion classification\\\\6_HD_6sig_SVM_Paper_Results\\\\HD_datasets\\\\'+data_dataset+'\\\\'"
   ]
  },
  {
   "cell_type": "code",
   "execution_count": 4,
   "metadata": {},
   "outputs": [],
   "source": [
    "# Folder to save HD datsets:\n",
    "save_dataset_path = 'G:\\\\Shared drives\\\\NIST-Pedestrian Activity Classification\\\\motion classification\\\\6_HD_6sig_SVM_Paper_Results\\\\HD_datasets\\\\'+data_dataset+'\\\\'"
   ]
  },
  {
   "cell_type": "markdown",
   "metadata": {},
   "source": [
    "---\n",
    "## **<font size=\"5\">3. Load HD datasets:</font>**\n",
    "---"
   ]
  },
  {
   "cell_type": "code",
   "execution_count": 5,
   "metadata": {},
   "outputs": [
    {
     "name": "stdout",
     "output_type": "stream",
     "text": [
      "Reading dataset 2023_08_30 ...\n",
      "Reading done!\n",
      "Shapes df:\n",
      "(72407, 2406)\n"
     ]
    }
   ],
   "source": [
    "print('Reading dataset '+data_dataset+' ...')\n",
    "# Load the HD dataset\n",
    "df   = pd.read_csv(dataset_path_unlabeled + 'HD_'+str(window_number)+'_6sig_'+type_dataset+'.csv')\n",
    "print('Reading done!')\n",
    "\n",
    "if 'Unnamed: 0' in df:   df   = df.drop(['Unnamed: 0'], axis=1)\n",
    "\n",
    "print('Shapes df:')\n",
    "print(df.shape)"
   ]
  },
  {
   "cell_type": "code",
   "execution_count": 6,
   "metadata": {},
   "outputs": [
    {
     "data": {
      "text/html": [
       "<div>\n",
       "<style scoped>\n",
       "    .dataframe tbody tr th:only-of-type {\n",
       "        vertical-align: middle;\n",
       "    }\n",
       "\n",
       "    .dataframe tbody tr th {\n",
       "        vertical-align: top;\n",
       "    }\n",
       "\n",
       "    .dataframe thead th {\n",
       "        text-align: right;\n",
       "    }\n",
       "</style>\n",
       "<table border=\"1\" class=\"dataframe\">\n",
       "  <thead>\n",
       "    <tr style=\"text-align: right;\">\n",
       "      <th></th>\n",
       "      <th>acc1_t400</th>\n",
       "      <th>acc2_t400</th>\n",
       "      <th>acc3_t400</th>\n",
       "      <th>gyro1_t400</th>\n",
       "      <th>gyro2_t400</th>\n",
       "      <th>gyro3_t400</th>\n",
       "      <th>acc1_t399</th>\n",
       "      <th>acc2_t399</th>\n",
       "      <th>acc3_t399</th>\n",
       "      <th>gyro1_t399</th>\n",
       "      <th>...</th>\n",
       "      <th>acc3_t1</th>\n",
       "      <th>gyro1_t1</th>\n",
       "      <th>gyro2_t1</th>\n",
       "      <th>gyro3_t1</th>\n",
       "      <th>acc1_t0</th>\n",
       "      <th>acc2_t0</th>\n",
       "      <th>acc3_t0</th>\n",
       "      <th>gyro1_t0</th>\n",
       "      <th>gyro2_t0</th>\n",
       "      <th>gyro3_t0</th>\n",
       "    </tr>\n",
       "  </thead>\n",
       "  <tbody>\n",
       "    <tr>\n",
       "      <th>0</th>\n",
       "      <td>-0.002282</td>\n",
       "      <td>0.036161</td>\n",
       "      <td>-0.982269</td>\n",
       "      <td>0.002690</td>\n",
       "      <td>0.001292</td>\n",
       "      <td>-0.021956</td>\n",
       "      <td>0.001243</td>\n",
       "      <td>0.034938</td>\n",
       "      <td>-0.978653</td>\n",
       "      <td>0.002432</td>\n",
       "      <td>...</td>\n",
       "      <td>-0.980751</td>\n",
       "      <td>0.004735</td>\n",
       "      <td>-0.000351</td>\n",
       "      <td>-0.019196</td>\n",
       "      <td>-0.000387</td>\n",
       "      <td>0.032107</td>\n",
       "      <td>-0.980945</td>\n",
       "      <td>0.002490</td>\n",
       "      <td>-0.00057</td>\n",
       "      <td>-0.020520</td>\n",
       "    </tr>\n",
       "    <tr>\n",
       "      <th>1</th>\n",
       "      <td>0.001243</td>\n",
       "      <td>0.034938</td>\n",
       "      <td>-0.978653</td>\n",
       "      <td>0.002432</td>\n",
       "      <td>0.001395</td>\n",
       "      <td>-0.022115</td>\n",
       "      <td>0.001579</td>\n",
       "      <td>0.035264</td>\n",
       "      <td>-0.979132</td>\n",
       "      <td>0.000059</td>\n",
       "      <td>...</td>\n",
       "      <td>-0.980945</td>\n",
       "      <td>0.002490</td>\n",
       "      <td>-0.000570</td>\n",
       "      <td>-0.020520</td>\n",
       "      <td>-0.002862</td>\n",
       "      <td>0.033268</td>\n",
       "      <td>-0.981373</td>\n",
       "      <td>0.001935</td>\n",
       "      <td>-0.00120</td>\n",
       "      <td>-0.023816</td>\n",
       "    </tr>\n",
       "  </tbody>\n",
       "</table>\n",
       "<p>2 rows × 2406 columns</p>\n",
       "</div>"
      ],
      "text/plain": [
       "   acc1_t400  acc2_t400  acc3_t400  gyro1_t400  gyro2_t400  gyro3_t400  \\\n",
       "0  -0.002282   0.036161  -0.982269    0.002690    0.001292   -0.021956   \n",
       "1   0.001243   0.034938  -0.978653    0.002432    0.001395   -0.022115   \n",
       "\n",
       "   acc1_t399  acc2_t399  acc3_t399  gyro1_t399  ...   acc3_t1  gyro1_t1  \\\n",
       "0   0.001243   0.034938  -0.978653    0.002432  ... -0.980751  0.004735   \n",
       "1   0.001579   0.035264  -0.979132    0.000059  ... -0.980945  0.002490   \n",
       "\n",
       "   gyro2_t1  gyro3_t1   acc1_t0   acc2_t0   acc3_t0  gyro1_t0  gyro2_t0  \\\n",
       "0 -0.000351 -0.019196 -0.000387  0.032107 -0.980945  0.002490  -0.00057   \n",
       "1 -0.000570 -0.020520 -0.002862  0.033268 -0.981373  0.001935  -0.00120   \n",
       "\n",
       "   gyro3_t0  \n",
       "0 -0.020520  \n",
       "1 -0.023816  \n",
       "\n",
       "[2 rows x 2406 columns]"
      ]
     },
     "execution_count": 6,
     "metadata": {},
     "output_type": "execute_result"
    }
   ],
   "source": [
    "df.head(2)"
   ]
  },
  {
   "cell_type": "markdown",
   "metadata": {},
   "source": [
    "---\n",
    "## **<font size=\"5\">4. Remove Bias:</font>**\n",
    "---"
   ]
  },
  {
   "cell_type": "markdown",
   "metadata": {},
   "source": [
    "<font size=\"2\">Compute the bias of the first 800 values (1s) of the labeled datset:</font>"
   ]
  },
  {
   "cell_type": "code",
   "execution_count": 7,
   "metadata": {},
   "outputs": [
    {
     "data": {
      "text/plain": [
       "[<matplotlib.lines.Line2D at 0x26bc61a41f0>,\n",
       " <matplotlib.lines.Line2D at 0x26bc61a40a0>,\n",
       " <matplotlib.lines.Line2D at 0x26bc61a5300>,\n",
       " <matplotlib.lines.Line2D at 0x26bc61a5420>,\n",
       " <matplotlib.lines.Line2D at 0x26bc61a5540>,\n",
       " <matplotlib.lines.Line2D at 0x26bc61a5660>]"
      ]
     },
     "execution_count": 7,
     "metadata": {},
     "output_type": "execute_result"
    },
    {
     "data": {
      "image/png": "[encoded data removed]",
      "text/plain": [
       "<Figure size 432x288 with 1 Axes>"
      ]
     },
     "metadata": {
      "needs_background": "light"
     },
     "output_type": "display_data"
    }
   ],
   "source": [
    "plt.plot(df.index[1:400],  df[['acc1_t'+str(window_number),'acc2_t'+str(window_number),'acc3_t'+str(window_number),'gyro1_t'+str(window_number),'gyro2_t'+str(window_number),'gyro3_t'+str(window_number)]].iloc[1:400])"
   ]
  },
  {
   "cell_type": "code",
   "execution_count": 8,
   "metadata": {},
   "outputs": [
    {
     "data": {
      "text/plain": [
       "[-0.0011329327602983873,\n",
       " 0.0351159629135316,\n",
       " -0.97985127785468,\n",
       " 0.0004964937343358412,\n",
       " 0.0001993909774436082,\n",
       " -0.020638411027568904]"
      ]
     },
     "execution_count": 8,
     "metadata": {},
     "output_type": "execute_result"
    }
   ],
   "source": [
    "bias_acc_1 = np.mean(df['acc1_t'+str(window_number)].iloc[1:400])\n",
    "bias_acc_2 = np.mean(df['acc2_t'+str(window_number)].iloc[1:400])\n",
    "bias_acc_3 = np.mean(df['acc3_t'+str(window_number)].iloc[1:400])\n",
    "bias_gyr_1 = np.mean(df['gyro1_t'+str(window_number)].iloc[1:400])\n",
    "bias_gyr_2 = np.mean(df['gyro2_t'+str(window_number)].iloc[1:400])\n",
    "bias_gyr_3 = np.mean(df['gyro3_t'+str(window_number)].iloc[1:400])\n",
    "[bias_acc_1, bias_acc_2, bias_acc_3, bias_gyr_1, bias_gyr_2, bias_gyr_3]"
   ]
  },
  {
   "cell_type": "code",
   "execution_count": 9,
   "metadata": {},
   "outputs": [
    {
     "data": {
      "text/plain": [
       "<AxesSubplot:>"
      ]
     },
     "execution_count": 9,
     "metadata": {},
     "output_type": "execute_result"
    },
    {
     "data": {
      "image/png": "[encoded data removed]",
      "text/plain": [
       "<Figure size 432x288 with 1 Axes>"
      ]
     },
     "metadata": {
      "needs_background": "light"
     },
     "output_type": "display_data"
    }
   ],
   "source": [
    "for i in range(0,window_number+1):\n",
    "    df[f'acc1_t{i}']  = df[f'acc1_t{i}']  - bias_acc_1\n",
    "    df[f'gyro1_t{i}'] = df[f'gyro1_t{i}'] - bias_gyr_1\n",
    "    df[f'acc2_t{i}']  = df[f'acc2_t{i}']  - bias_acc_2\n",
    "    df[f'gyro2_t{i}'] = df[f'gyro2_t{i}'] - bias_gyr_2\n",
    "    df[f'acc3_t{i}']  = df[f'acc3_t{i}']  - bias_acc_3\n",
    "    df[f'gyro3_t{i}'] = df[f'gyro3_t{i}'] - bias_gyr_3\n",
    "\n",
    "df.plot(y = ['acc1_t'+str(window_number), 'acc2_t'+str(window_number), 'acc3_t'+str(window_number)], use_index = True)"
   ]
  },
  {
   "cell_type": "code",
   "execution_count": 10,
   "metadata": {},
   "outputs": [
    {
     "data": {
      "text/plain": [
       "<AxesSubplot:>"
      ]
     },
     "execution_count": 10,
     "metadata": {},
     "output_type": "execute_result"
    },
    {
     "data": {
      "image/png": "[encoded data removed]",
      "text/plain": [
       "<Figure size 432x288 with 1 Axes>"
      ]
     },
     "metadata": {
      "needs_background": "light"
     },
     "output_type": "display_data"
    }
   ],
   "source": [
    "df.plot(y = ['acc1_t0', 'acc2_t0', 'acc3_t0'], use_index = True)"
   ]
  },
  {
   "cell_type": "code",
   "execution_count": 11,
   "metadata": {},
   "outputs": [],
   "source": [
    "df.to_csv(save_dataset_path + 'HD_'+str(window_number)+'_6sig_'+type_dataset+'_no_Bias.csv')"
   ]
  },
  {
   "cell_type": "code",
   "execution_count": 12,
   "metadata": {},
   "outputs": [
    {
     "data": {
      "text/html": [
       "<div>\n",
       "<style scoped>\n",
       "    .dataframe tbody tr th:only-of-type {\n",
       "        vertical-align: middle;\n",
       "    }\n",
       "\n",
       "    .dataframe tbody tr th {\n",
       "        vertical-align: top;\n",
       "    }\n",
       "\n",
       "    .dataframe thead th {\n",
       "        text-align: right;\n",
       "    }\n",
       "</style>\n",
       "<table border=\"1\" class=\"dataframe\">\n",
       "  <thead>\n",
       "    <tr style=\"text-align: right;\">\n",
       "      <th></th>\n",
       "      <th>acc1_t400</th>\n",
       "      <th>acc2_t400</th>\n",
       "      <th>acc3_t400</th>\n",
       "      <th>gyro1_t400</th>\n",
       "      <th>gyro2_t400</th>\n",
       "      <th>gyro3_t400</th>\n",
       "      <th>acc1_t399</th>\n",
       "      <th>acc2_t399</th>\n",
       "      <th>acc3_t399</th>\n",
       "      <th>gyro1_t399</th>\n",
       "      <th>...</th>\n",
       "      <th>acc3_t1</th>\n",
       "      <th>gyro1_t1</th>\n",
       "      <th>gyro2_t1</th>\n",
       "      <th>gyro3_t1</th>\n",
       "      <th>acc1_t0</th>\n",
       "      <th>acc2_t0</th>\n",
       "      <th>acc3_t0</th>\n",
       "      <th>gyro1_t0</th>\n",
       "      <th>gyro2_t0</th>\n",
       "      <th>gyro3_t0</th>\n",
       "    </tr>\n",
       "  </thead>\n",
       "  <tbody>\n",
       "    <tr>\n",
       "      <th>0</th>\n",
       "      <td>-0.001149</td>\n",
       "      <td>0.001045</td>\n",
       "      <td>-0.002418</td>\n",
       "      <td>0.002194</td>\n",
       "      <td>0.001093</td>\n",
       "      <td>-0.001318</td>\n",
       "      <td>0.002376</td>\n",
       "      <td>-0.000178</td>\n",
       "      <td>0.001198</td>\n",
       "      <td>0.001936</td>\n",
       "      <td>...</td>\n",
       "      <td>-0.000900</td>\n",
       "      <td>0.004239</td>\n",
       "      <td>-0.000550</td>\n",
       "      <td>0.001442</td>\n",
       "      <td>0.000746</td>\n",
       "      <td>-0.003009</td>\n",
       "      <td>-0.001094</td>\n",
       "      <td>0.001994</td>\n",
       "      <td>-0.000769</td>\n",
       "      <td>0.000118</td>\n",
       "    </tr>\n",
       "    <tr>\n",
       "      <th>1</th>\n",
       "      <td>0.002376</td>\n",
       "      <td>-0.000178</td>\n",
       "      <td>0.001198</td>\n",
       "      <td>0.001936</td>\n",
       "      <td>0.001196</td>\n",
       "      <td>-0.001477</td>\n",
       "      <td>0.002712</td>\n",
       "      <td>0.000148</td>\n",
       "      <td>0.000720</td>\n",
       "      <td>-0.000437</td>\n",
       "      <td>...</td>\n",
       "      <td>-0.001094</td>\n",
       "      <td>0.001994</td>\n",
       "      <td>-0.000769</td>\n",
       "      <td>0.000118</td>\n",
       "      <td>-0.001729</td>\n",
       "      <td>-0.001848</td>\n",
       "      <td>-0.001521</td>\n",
       "      <td>0.001439</td>\n",
       "      <td>-0.001399</td>\n",
       "      <td>-0.003178</td>\n",
       "    </tr>\n",
       "    <tr>\n",
       "      <th>2</th>\n",
       "      <td>0.002712</td>\n",
       "      <td>0.000148</td>\n",
       "      <td>0.000720</td>\n",
       "      <td>-0.000437</td>\n",
       "      <td>0.002874</td>\n",
       "      <td>-0.000995</td>\n",
       "      <td>-0.000375</td>\n",
       "      <td>0.002512</td>\n",
       "      <td>0.000129</td>\n",
       "      <td>-0.000131</td>\n",
       "      <td>...</td>\n",
       "      <td>-0.001521</td>\n",
       "      <td>0.001439</td>\n",
       "      <td>-0.001399</td>\n",
       "      <td>-0.003178</td>\n",
       "      <td>-0.006700</td>\n",
       "      <td>0.002593</td>\n",
       "      <td>-0.005616</td>\n",
       "      <td>0.003360</td>\n",
       "      <td>-0.000113</td>\n",
       "      <td>-0.003234</td>\n",
       "    </tr>\n",
       "    <tr>\n",
       "      <th>3</th>\n",
       "      <td>-0.000375</td>\n",
       "      <td>0.002512</td>\n",
       "      <td>0.000129</td>\n",
       "      <td>-0.000131</td>\n",
       "      <td>0.002662</td>\n",
       "      <td>0.000279</td>\n",
       "      <td>0.001184</td>\n",
       "      <td>0.001187</td>\n",
       "      <td>0.000679</td>\n",
       "      <td>0.002696</td>\n",
       "      <td>...</td>\n",
       "      <td>-0.005616</td>\n",
       "      <td>0.003360</td>\n",
       "      <td>-0.000113</td>\n",
       "      <td>-0.003234</td>\n",
       "      <td>-0.003563</td>\n",
       "      <td>0.004559</td>\n",
       "      <td>-0.002754</td>\n",
       "      <td>0.002999</td>\n",
       "      <td>-0.000807</td>\n",
       "      <td>-0.002331</td>\n",
       "    </tr>\n",
       "    <tr>\n",
       "      <th>4</th>\n",
       "      <td>0.001184</td>\n",
       "      <td>0.001187</td>\n",
       "      <td>0.000679</td>\n",
       "      <td>0.002696</td>\n",
       "      <td>0.003261</td>\n",
       "      <td>-0.000099</td>\n",
       "      <td>0.002223</td>\n",
       "      <td>-0.002082</td>\n",
       "      <td>0.001015</td>\n",
       "      <td>0.001130</td>\n",
       "      <td>...</td>\n",
       "      <td>-0.002754</td>\n",
       "      <td>0.002999</td>\n",
       "      <td>-0.000807</td>\n",
       "      <td>-0.002331</td>\n",
       "      <td>-0.001332</td>\n",
       "      <td>0.003500</td>\n",
       "      <td>0.000770</td>\n",
       "      <td>0.002241</td>\n",
       "      <td>0.000611</td>\n",
       "      <td>0.000435</td>\n",
       "    </tr>\n",
       "    <tr>\n",
       "      <th>...</th>\n",
       "      <td>...</td>\n",
       "      <td>...</td>\n",
       "      <td>...</td>\n",
       "      <td>...</td>\n",
       "      <td>...</td>\n",
       "      <td>...</td>\n",
       "      <td>...</td>\n",
       "      <td>...</td>\n",
       "      <td>...</td>\n",
       "      <td>...</td>\n",
       "      <td>...</td>\n",
       "      <td>...</td>\n",
       "      <td>...</td>\n",
       "      <td>...</td>\n",
       "      <td>...</td>\n",
       "      <td>...</td>\n",
       "      <td>...</td>\n",
       "      <td>...</td>\n",
       "      <td>...</td>\n",
       "      <td>...</td>\n",
       "      <td>...</td>\n",
       "    </tr>\n",
       "    <tr>\n",
       "      <th>72402</th>\n",
       "      <td>-0.005315</td>\n",
       "      <td>0.010640</td>\n",
       "      <td>-0.002734</td>\n",
       "      <td>-0.001655</td>\n",
       "      <td>-0.002971</td>\n",
       "      <td>-0.000442</td>\n",
       "      <td>-0.003104</td>\n",
       "      <td>0.007676</td>\n",
       "      <td>-0.001909</td>\n",
       "      <td>-0.002568</td>\n",
       "      <td>...</td>\n",
       "      <td>0.003724</td>\n",
       "      <td>0.002431</td>\n",
       "      <td>-0.002669</td>\n",
       "      <td>-0.000525</td>\n",
       "      <td>-0.006456</td>\n",
       "      <td>0.010569</td>\n",
       "      <td>0.005527</td>\n",
       "      <td>0.002013</td>\n",
       "      <td>-0.003146</td>\n",
       "      <td>-0.000630</td>\n",
       "    </tr>\n",
       "    <tr>\n",
       "      <th>72403</th>\n",
       "      <td>-0.003104</td>\n",
       "      <td>0.007676</td>\n",
       "      <td>-0.001909</td>\n",
       "      <td>-0.002568</td>\n",
       "      <td>-0.001201</td>\n",
       "      <td>0.000596</td>\n",
       "      <td>-0.002687</td>\n",
       "      <td>0.009795</td>\n",
       "      <td>0.004865</td>\n",
       "      <td>-0.001375</td>\n",
       "      <td>...</td>\n",
       "      <td>0.005527</td>\n",
       "      <td>0.002013</td>\n",
       "      <td>-0.003146</td>\n",
       "      <td>-0.000630</td>\n",
       "      <td>-0.007576</td>\n",
       "      <td>0.012708</td>\n",
       "      <td>0.002675</td>\n",
       "      <td>0.001364</td>\n",
       "      <td>-0.000394</td>\n",
       "      <td>-0.001052</td>\n",
       "    </tr>\n",
       "    <tr>\n",
       "      <th>72404</th>\n",
       "      <td>-0.002687</td>\n",
       "      <td>0.009795</td>\n",
       "      <td>0.004865</td>\n",
       "      <td>-0.001375</td>\n",
       "      <td>0.000164</td>\n",
       "      <td>0.001613</td>\n",
       "      <td>-0.004042</td>\n",
       "      <td>0.012881</td>\n",
       "      <td>0.004774</td>\n",
       "      <td>0.001352</td>\n",
       "      <td>...</td>\n",
       "      <td>0.002675</td>\n",
       "      <td>0.001364</td>\n",
       "      <td>-0.000394</td>\n",
       "      <td>-0.001052</td>\n",
       "      <td>-0.004469</td>\n",
       "      <td>0.012219</td>\n",
       "      <td>0.001921</td>\n",
       "      <td>0.001413</td>\n",
       "      <td>-0.000928</td>\n",
       "      <td>0.000278</td>\n",
       "    </tr>\n",
       "    <tr>\n",
       "      <th>72405</th>\n",
       "      <td>-0.004042</td>\n",
       "      <td>0.012881</td>\n",
       "      <td>0.004774</td>\n",
       "      <td>0.001352</td>\n",
       "      <td>0.000129</td>\n",
       "      <td>0.001022</td>\n",
       "      <td>-0.005824</td>\n",
       "      <td>0.012260</td>\n",
       "      <td>0.002339</td>\n",
       "      <td>0.001081</td>\n",
       "      <td>...</td>\n",
       "      <td>0.001921</td>\n",
       "      <td>0.001413</td>\n",
       "      <td>-0.000928</td>\n",
       "      <td>0.000278</td>\n",
       "      <td>-0.001801</td>\n",
       "      <td>0.011730</td>\n",
       "      <td>-0.000432</td>\n",
       "      <td>-0.000823</td>\n",
       "      <td>-0.002746</td>\n",
       "      <td>0.000869</td>\n",
       "    </tr>\n",
       "    <tr>\n",
       "      <th>72406</th>\n",
       "      <td>-0.005824</td>\n",
       "      <td>0.012260</td>\n",
       "      <td>0.002339</td>\n",
       "      <td>0.001081</td>\n",
       "      <td>-0.001451</td>\n",
       "      <td>-0.000827</td>\n",
       "      <td>-0.003492</td>\n",
       "      <td>0.011099</td>\n",
       "      <td>0.000872</td>\n",
       "      <td>-0.001257</td>\n",
       "      <td>...</td>\n",
       "      <td>-0.000432</td>\n",
       "      <td>-0.000823</td>\n",
       "      <td>-0.002746</td>\n",
       "      <td>0.000869</td>\n",
       "      <td>-0.004266</td>\n",
       "      <td>0.011496</td>\n",
       "      <td>-0.004170</td>\n",
       "      <td>-0.000249</td>\n",
       "      <td>-0.002262</td>\n",
       "      <td>-0.000090</td>\n",
       "    </tr>\n",
       "  </tbody>\n",
       "</table>\n",
       "<p>72407 rows × 2406 columns</p>\n",
       "</div>"
      ],
      "text/plain": [
       "       acc1_t400  acc2_t400  acc3_t400  gyro1_t400  gyro2_t400  gyro3_t400  \\\n",
       "0      -0.001149   0.001045  -0.002418    0.002194    0.001093   -0.001318   \n",
       "1       0.002376  -0.000178   0.001198    0.001936    0.001196   -0.001477   \n",
       "2       0.002712   0.000148   0.000720   -0.000437    0.002874   -0.000995   \n",
       "3      -0.000375   0.002512   0.000129   -0.000131    0.002662    0.000279   \n",
       "4       0.001184   0.001187   0.000679    0.002696    0.003261   -0.000099   \n",
       "...          ...        ...        ...         ...         ...         ...   \n",
       "72402  -0.005315   0.010640  -0.002734   -0.001655   -0.002971   -0.000442   \n",
       "72403  -0.003104   0.007676  -0.001909   -0.002568   -0.001201    0.000596   \n",
       "72404  -0.002687   0.009795   0.004865   -0.001375    0.000164    0.001613   \n",
       "72405  -0.004042   0.012881   0.004774    0.001352    0.000129    0.001022   \n",
       "72406  -0.005824   0.012260   0.002339    0.001081   -0.001451   -0.000827   \n",
       "\n",
       "       acc1_t399  acc2_t399  acc3_t399  gyro1_t399  ...   acc3_t1  gyro1_t1  \\\n",
       "0       0.002376  -0.000178   0.001198    0.001936  ... -0.000900  0.004239   \n",
       "1       0.002712   0.000148   0.000720   -0.000437  ... -0.001094  0.001994   \n",
       "2      -0.000375   0.002512   0.000129   -0.000131  ... -0.001521  0.001439   \n",
       "3       0.001184   0.001187   0.000679    0.002696  ... -0.005616  0.003360   \n",
       "4       0.002223  -0.002082   0.001015    0.001130  ... -0.002754  0.002999   \n",
       "...          ...        ...        ...         ...  ...       ...       ...   \n",
       "72402  -0.003104   0.007676  -0.001909   -0.002568  ...  0.003724  0.002431   \n",
       "72403  -0.002687   0.009795   0.004865   -0.001375  ...  0.005527  0.002013   \n",
       "72404  -0.004042   0.012881   0.004774    0.001352  ...  0.002675  0.001364   \n",
       "72405  -0.005824   0.012260   0.002339    0.001081  ...  0.001921  0.001413   \n",
       "72406  -0.003492   0.011099   0.000872   -0.001257  ... -0.000432 -0.000823   \n",
       "\n",
       "       gyro2_t1  gyro3_t1   acc1_t0   acc2_t0   acc3_t0  gyro1_t0  gyro2_t0  \\\n",
       "0     -0.000550  0.001442  0.000746 -0.003009 -0.001094  0.001994 -0.000769   \n",
       "1     -0.000769  0.000118 -0.001729 -0.001848 -0.001521  0.001439 -0.001399   \n",
       "2     -0.001399 -0.003178 -0.006700  0.002593 -0.005616  0.003360 -0.000113   \n",
       "3     -0.000113 -0.003234 -0.003563  0.004559 -0.002754  0.002999 -0.000807   \n",
       "4     -0.000807 -0.002331 -0.001332  0.003500  0.000770  0.002241  0.000611   \n",
       "...         ...       ...       ...       ...       ...       ...       ...   \n",
       "72402 -0.002669 -0.000525 -0.006456  0.010569  0.005527  0.002013 -0.003146   \n",
       "72403 -0.003146 -0.000630 -0.007576  0.012708  0.002675  0.001364 -0.000394   \n",
       "72404 -0.000394 -0.001052 -0.004469  0.012219  0.001921  0.001413 -0.000928   \n",
       "72405 -0.000928  0.000278 -0.001801  0.011730 -0.000432 -0.000823 -0.002746   \n",
       "72406 -0.002746  0.000869 -0.004266  0.011496 -0.004170 -0.000249 -0.002262   \n",
       "\n",
       "       gyro3_t0  \n",
       "0      0.000118  \n",
       "1     -0.003178  \n",
       "2     -0.003234  \n",
       "3     -0.002331  \n",
       "4      0.000435  \n",
       "...         ...  \n",
       "72402 -0.000630  \n",
       "72403 -0.001052  \n",
       "72404  0.000278  \n",
       "72405  0.000869  \n",
       "72406 -0.000090  \n",
       "\n",
       "[72407 rows x 2406 columns]"
      ]
     },
     "execution_count": 12,
     "metadata": {},
     "output_type": "execute_result"
    }
   ],
   "source": [
    "df"
   ]
  }
 ],
 "metadata": {
  "kernelspec": {
   "display_name": "Python 3.10.5 64-bit",
   "language": "python",
   "name": "python3"
  },
  "language_info": {
   "codemirror_mode": {
    "name": "ipython",
    "version": 3
   },
   "file_extension": ".py",
   "mimetype": "text/x-python",
   "name": "python",
   "nbconvert_exporter": "python",
   "pygments_lexer": "ipython3",
   "version": "3.10.5"
  },
  "orig_nbformat": 4,
  "vscode": {
   "interpreter": {
    "hash": "9103196f9419d8fa895c36bf5b3852f32d27a01beb0b11d5bcec3c7795f6c22a"
   }
  }
 },
 "nbformat": 4,
 "nbformat_minor": 2
}
